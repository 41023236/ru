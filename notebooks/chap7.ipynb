{
  "cells": [
    {
      "cell_type": "markdown",
      "id": "df27d777",
      "metadata": {
        "id": "df27d777"
      },
      "source": [
        "# Robotics, Vision & Control 3e: for Python\n",
        "## Chapter 7: Robot Arm Kinematics\n",
        "\n",
        "Copyright (c) 2021- Peter Corke"
      ]
    },
    {
      "cell_type": "code",
      "execution_count": 5,
      "id": "9836bfc3",
      "metadata": {
        "id": "9836bfc3",
        "outputId": "f71e4959-b0ca-44b8-d2f2-b6920c251507",
        "colab": {
          "base_uri": "https://localhost:8080/",
          "height": 1000
        }
      },
      "outputs": [
        {
          "output_type": "stream",
          "name": "stdout",
          "text": [
            "Running on CoLab\n",
            "Collecting ipympl\n",
            "  Downloading ipympl-0.9.7-py3-none-any.whl.metadata (8.7 kB)\n",
            "Requirement already satisfied: ipython<10 in /usr/local/lib/python3.12/dist-packages (from ipympl) (7.34.0)\n",
            "Requirement already satisfied: ipywidgets<9,>=7.6.0 in /usr/local/lib/python3.12/dist-packages (from ipympl) (7.7.1)\n",
            "Requirement already satisfied: matplotlib<4,>=3.5.0 in /usr/local/lib/python3.12/dist-packages (from ipympl) (3.10.0)\n",
            "Requirement already satisfied: numpy in /usr/local/lib/python3.12/dist-packages (from ipympl) (2.0.2)\n",
            "Requirement already satisfied: pillow in /usr/local/lib/python3.12/dist-packages (from ipympl) (11.3.0)\n",
            "Requirement already satisfied: traitlets<6 in /usr/local/lib/python3.12/dist-packages (from ipympl) (5.7.1)\n",
            "Requirement already satisfied: setuptools>=18.5 in /usr/local/lib/python3.12/dist-packages (from ipython<10->ipympl) (75.2.0)\n",
            "Collecting jedi>=0.16 (from ipython<10->ipympl)\n",
            "  Downloading jedi-0.19.2-py2.py3-none-any.whl.metadata (22 kB)\n",
            "Requirement already satisfied: decorator in /usr/local/lib/python3.12/dist-packages (from ipython<10->ipympl) (4.4.2)\n",
            "Requirement already satisfied: pickleshare in /usr/local/lib/python3.12/dist-packages (from ipython<10->ipympl) (0.7.5)\n",
            "Requirement already satisfied: prompt-toolkit!=3.0.0,!=3.0.1,<3.1.0,>=2.0.0 in /usr/local/lib/python3.12/dist-packages (from ipython<10->ipympl) (3.0.52)\n",
            "Requirement already satisfied: pygments in /usr/local/lib/python3.12/dist-packages (from ipython<10->ipympl) (2.19.2)\n",
            "Requirement already satisfied: backcall in /usr/local/lib/python3.12/dist-packages (from ipython<10->ipympl) (0.2.0)\n",
            "Requirement already satisfied: matplotlib-inline in /usr/local/lib/python3.12/dist-packages (from ipython<10->ipympl) (0.1.7)\n",
            "Requirement already satisfied: pexpect>4.3 in /usr/local/lib/python3.12/dist-packages (from ipython<10->ipympl) (4.9.0)\n",
            "Requirement already satisfied: ipykernel>=4.5.1 in /usr/local/lib/python3.12/dist-packages (from ipywidgets<9,>=7.6.0->ipympl) (6.17.1)\n",
            "Requirement already satisfied: ipython-genutils~=0.2.0 in /usr/local/lib/python3.12/dist-packages (from ipywidgets<9,>=7.6.0->ipympl) (0.2.0)\n",
            "Requirement already satisfied: widgetsnbextension~=3.6.0 in /usr/local/lib/python3.12/dist-packages (from ipywidgets<9,>=7.6.0->ipympl) (3.6.10)\n",
            "Requirement already satisfied: jupyterlab-widgets>=1.0.0 in /usr/local/lib/python3.12/dist-packages (from ipywidgets<9,>=7.6.0->ipympl) (3.0.15)\n",
            "Requirement already satisfied: contourpy>=1.0.1 in /usr/local/lib/python3.12/dist-packages (from matplotlib<4,>=3.5.0->ipympl) (1.3.3)\n",
            "Requirement already satisfied: cycler>=0.10 in /usr/local/lib/python3.12/dist-packages (from matplotlib<4,>=3.5.0->ipympl) (0.12.1)\n",
            "Requirement already satisfied: fonttools>=4.22.0 in /usr/local/lib/python3.12/dist-packages (from matplotlib<4,>=3.5.0->ipympl) (4.60.1)\n",
            "Requirement already satisfied: kiwisolver>=1.3.1 in /usr/local/lib/python3.12/dist-packages (from matplotlib<4,>=3.5.0->ipympl) (1.4.9)\n",
            "Requirement already satisfied: packaging>=20.0 in /usr/local/lib/python3.12/dist-packages (from matplotlib<4,>=3.5.0->ipympl) (25.0)\n",
            "Requirement already satisfied: pyparsing>=2.3.1 in /usr/local/lib/python3.12/dist-packages (from matplotlib<4,>=3.5.0->ipympl) (3.2.5)\n",
            "Requirement already satisfied: python-dateutil>=2.7 in /usr/local/lib/python3.12/dist-packages (from matplotlib<4,>=3.5.0->ipympl) (2.9.0.post0)\n",
            "Requirement already satisfied: debugpy>=1.0 in /usr/local/lib/python3.12/dist-packages (from ipykernel>=4.5.1->ipywidgets<9,>=7.6.0->ipympl) (1.8.15)\n",
            "Requirement already satisfied: jupyter-client>=6.1.12 in /usr/local/lib/python3.12/dist-packages (from ipykernel>=4.5.1->ipywidgets<9,>=7.6.0->ipympl) (7.4.9)\n",
            "Requirement already satisfied: nest-asyncio in /usr/local/lib/python3.12/dist-packages (from ipykernel>=4.5.1->ipywidgets<9,>=7.6.0->ipympl) (1.6.0)\n",
            "Requirement already satisfied: psutil in /usr/local/lib/python3.12/dist-packages (from ipykernel>=4.5.1->ipywidgets<9,>=7.6.0->ipympl) (5.9.5)\n",
            "Requirement already satisfied: pyzmq>=17 in /usr/local/lib/python3.12/dist-packages (from ipykernel>=4.5.1->ipywidgets<9,>=7.6.0->ipympl) (26.2.1)\n",
            "Requirement already satisfied: tornado>=6.1 in /usr/local/lib/python3.12/dist-packages (from ipykernel>=4.5.1->ipywidgets<9,>=7.6.0->ipympl) (6.4.2)\n",
            "Requirement already satisfied: parso<0.9.0,>=0.8.4 in /usr/local/lib/python3.12/dist-packages (from jedi>=0.16->ipython<10->ipympl) (0.8.5)\n",
            "Requirement already satisfied: ptyprocess>=0.5 in /usr/local/lib/python3.12/dist-packages (from pexpect>4.3->ipython<10->ipympl) (0.7.0)\n",
            "Requirement already satisfied: wcwidth in /usr/local/lib/python3.12/dist-packages (from prompt-toolkit!=3.0.0,!=3.0.1,<3.1.0,>=2.0.0->ipython<10->ipympl) (0.2.14)\n",
            "Requirement already satisfied: six>=1.5 in /usr/local/lib/python3.12/dist-packages (from python-dateutil>=2.7->matplotlib<4,>=3.5.0->ipympl) (1.17.0)\n",
            "Requirement already satisfied: notebook>=4.4.1 in /usr/local/lib/python3.12/dist-packages (from widgetsnbextension~=3.6.0->ipywidgets<9,>=7.6.0->ipympl) (6.5.7)\n",
            "Requirement already satisfied: entrypoints in /usr/local/lib/python3.12/dist-packages (from jupyter-client>=6.1.12->ipykernel>=4.5.1->ipywidgets<9,>=7.6.0->ipympl) (0.4)\n",
            "Requirement already satisfied: jupyter-core>=4.9.2 in /usr/local/lib/python3.12/dist-packages (from jupyter-client>=6.1.12->ipykernel>=4.5.1->ipywidgets<9,>=7.6.0->ipympl) (5.8.1)\n",
            "Requirement already satisfied: jinja2 in /usr/local/lib/python3.12/dist-packages (from notebook>=4.4.1->widgetsnbextension~=3.6.0->ipywidgets<9,>=7.6.0->ipympl) (3.1.6)\n",
            "Requirement already satisfied: argon2-cffi in /usr/local/lib/python3.12/dist-packages (from notebook>=4.4.1->widgetsnbextension~=3.6.0->ipywidgets<9,>=7.6.0->ipympl) (25.1.0)\n",
            "Requirement already satisfied: nbformat in /usr/local/lib/python3.12/dist-packages (from notebook>=4.4.1->widgetsnbextension~=3.6.0->ipywidgets<9,>=7.6.0->ipympl) (5.10.4)\n",
            "Requirement already satisfied: nbconvert>=5 in /usr/local/lib/python3.12/dist-packages (from notebook>=4.4.1->widgetsnbextension~=3.6.0->ipywidgets<9,>=7.6.0->ipympl) (7.16.6)\n",
            "Requirement already satisfied: Send2Trash>=1.8.0 in /usr/local/lib/python3.12/dist-packages (from notebook>=4.4.1->widgetsnbextension~=3.6.0->ipywidgets<9,>=7.6.0->ipympl) (1.8.3)\n",
            "Requirement already satisfied: terminado>=0.8.3 in /usr/local/lib/python3.12/dist-packages (from notebook>=4.4.1->widgetsnbextension~=3.6.0->ipywidgets<9,>=7.6.0->ipympl) (0.18.1)\n",
            "Requirement already satisfied: prometheus-client in /usr/local/lib/python3.12/dist-packages (from notebook>=4.4.1->widgetsnbextension~=3.6.0->ipywidgets<9,>=7.6.0->ipympl) (0.23.1)\n",
            "Requirement already satisfied: nbclassic>=0.4.7 in /usr/local/lib/python3.12/dist-packages (from notebook>=4.4.1->widgetsnbextension~=3.6.0->ipywidgets<9,>=7.6.0->ipympl) (1.3.3)\n",
            "Requirement already satisfied: platformdirs>=2.5 in /usr/local/lib/python3.12/dist-packages (from jupyter-core>=4.9.2->jupyter-client>=6.1.12->ipykernel>=4.5.1->ipywidgets<9,>=7.6.0->ipympl) (4.4.0)\n",
            "Requirement already satisfied: notebook-shim>=0.2.3 in /usr/local/lib/python3.12/dist-packages (from nbclassic>=0.4.7->notebook>=4.4.1->widgetsnbextension~=3.6.0->ipywidgets<9,>=7.6.0->ipympl) (0.2.4)\n",
            "Requirement already satisfied: beautifulsoup4 in /usr/local/lib/python3.12/dist-packages (from nbconvert>=5->notebook>=4.4.1->widgetsnbextension~=3.6.0->ipywidgets<9,>=7.6.0->ipympl) (4.13.5)\n",
            "Requirement already satisfied: bleach!=5.0.0 in /usr/local/lib/python3.12/dist-packages (from bleach[css]!=5.0.0->nbconvert>=5->notebook>=4.4.1->widgetsnbextension~=3.6.0->ipywidgets<9,>=7.6.0->ipympl) (6.2.0)\n",
            "Requirement already satisfied: defusedxml in /usr/local/lib/python3.12/dist-packages (from nbconvert>=5->notebook>=4.4.1->widgetsnbextension~=3.6.0->ipywidgets<9,>=7.6.0->ipympl) (0.7.1)\n",
            "Requirement already satisfied: jupyterlab-pygments in /usr/local/lib/python3.12/dist-packages (from nbconvert>=5->notebook>=4.4.1->widgetsnbextension~=3.6.0->ipywidgets<9,>=7.6.0->ipympl) (0.3.0)\n",
            "Requirement already satisfied: markupsafe>=2.0 in /usr/local/lib/python3.12/dist-packages (from nbconvert>=5->notebook>=4.4.1->widgetsnbextension~=3.6.0->ipywidgets<9,>=7.6.0->ipympl) (3.0.3)\n",
            "Requirement already satisfied: mistune<4,>=2.0.3 in /usr/local/lib/python3.12/dist-packages (from nbconvert>=5->notebook>=4.4.1->widgetsnbextension~=3.6.0->ipywidgets<9,>=7.6.0->ipympl) (3.1.4)\n",
            "Requirement already satisfied: nbclient>=0.5.0 in /usr/local/lib/python3.12/dist-packages (from nbconvert>=5->notebook>=4.4.1->widgetsnbextension~=3.6.0->ipywidgets<9,>=7.6.0->ipympl) (0.10.2)\n",
            "Requirement already satisfied: pandocfilters>=1.4.1 in /usr/local/lib/python3.12/dist-packages (from nbconvert>=5->notebook>=4.4.1->widgetsnbextension~=3.6.0->ipywidgets<9,>=7.6.0->ipympl) (1.5.1)\n",
            "Requirement already satisfied: fastjsonschema>=2.15 in /usr/local/lib/python3.12/dist-packages (from nbformat->notebook>=4.4.1->widgetsnbextension~=3.6.0->ipywidgets<9,>=7.6.0->ipympl) (2.21.2)\n",
            "Requirement already satisfied: jsonschema>=2.6 in /usr/local/lib/python3.12/dist-packages (from nbformat->notebook>=4.4.1->widgetsnbextension~=3.6.0->ipywidgets<9,>=7.6.0->ipympl) (4.25.1)\n",
            "Requirement already satisfied: argon2-cffi-bindings in /usr/local/lib/python3.12/dist-packages (from argon2-cffi->notebook>=4.4.1->widgetsnbextension~=3.6.0->ipywidgets<9,>=7.6.0->ipympl) (25.1.0)\n",
            "Requirement already satisfied: webencodings in /usr/local/lib/python3.12/dist-packages (from bleach!=5.0.0->bleach[css]!=5.0.0->nbconvert>=5->notebook>=4.4.1->widgetsnbextension~=3.6.0->ipywidgets<9,>=7.6.0->ipympl) (0.5.1)\n",
            "Requirement already satisfied: tinycss2<1.5,>=1.1.0 in /usr/local/lib/python3.12/dist-packages (from bleach[css]!=5.0.0->nbconvert>=5->notebook>=4.4.1->widgetsnbextension~=3.6.0->ipywidgets<9,>=7.6.0->ipympl) (1.4.0)\n",
            "Requirement already satisfied: attrs>=22.2.0 in /usr/local/lib/python3.12/dist-packages (from jsonschema>=2.6->nbformat->notebook>=4.4.1->widgetsnbextension~=3.6.0->ipywidgets<9,>=7.6.0->ipympl) (25.3.0)\n",
            "Requirement already satisfied: jsonschema-specifications>=2023.03.6 in /usr/local/lib/python3.12/dist-packages (from jsonschema>=2.6->nbformat->notebook>=4.4.1->widgetsnbextension~=3.6.0->ipywidgets<9,>=7.6.0->ipympl) (2025.9.1)\n",
            "Requirement already satisfied: referencing>=0.28.4 in /usr/local/lib/python3.12/dist-packages (from jsonschema>=2.6->nbformat->notebook>=4.4.1->widgetsnbextension~=3.6.0->ipywidgets<9,>=7.6.0->ipympl) (0.36.2)\n",
            "Requirement already satisfied: rpds-py>=0.7.1 in /usr/local/lib/python3.12/dist-packages (from jsonschema>=2.6->nbformat->notebook>=4.4.1->widgetsnbextension~=3.6.0->ipywidgets<9,>=7.6.0->ipympl) (0.27.1)\n",
            "Requirement already satisfied: jupyter-server<3,>=1.8 in /usr/local/lib/python3.12/dist-packages (from notebook-shim>=0.2.3->nbclassic>=0.4.7->notebook>=4.4.1->widgetsnbextension~=3.6.0->ipywidgets<9,>=7.6.0->ipympl) (2.14.0)\n",
            "Requirement already satisfied: cffi>=1.0.1 in /usr/local/lib/python3.12/dist-packages (from argon2-cffi-bindings->argon2-cffi->notebook>=4.4.1->widgetsnbextension~=3.6.0->ipywidgets<9,>=7.6.0->ipympl) (2.0.0)\n",
            "Requirement already satisfied: soupsieve>1.2 in /usr/local/lib/python3.12/dist-packages (from beautifulsoup4->nbconvert>=5->notebook>=4.4.1->widgetsnbextension~=3.6.0->ipywidgets<9,>=7.6.0->ipympl) (2.8)\n",
            "Requirement already satisfied: typing-extensions>=4.0.0 in /usr/local/lib/python3.12/dist-packages (from beautifulsoup4->nbconvert>=5->notebook>=4.4.1->widgetsnbextension~=3.6.0->ipywidgets<9,>=7.6.0->ipympl) (4.15.0)\n",
            "Requirement already satisfied: pycparser in /usr/local/lib/python3.12/dist-packages (from cffi>=1.0.1->argon2-cffi-bindings->argon2-cffi->notebook>=4.4.1->widgetsnbextension~=3.6.0->ipywidgets<9,>=7.6.0->ipympl) (2.23)\n",
            "Requirement already satisfied: anyio>=3.1.0 in /usr/local/lib/python3.12/dist-packages (from jupyter-server<3,>=1.8->notebook-shim>=0.2.3->nbclassic>=0.4.7->notebook>=4.4.1->widgetsnbextension~=3.6.0->ipywidgets<9,>=7.6.0->ipympl) (4.11.0)\n",
            "Requirement already satisfied: jupyter-events>=0.9.0 in /usr/local/lib/python3.12/dist-packages (from jupyter-server<3,>=1.8->notebook-shim>=0.2.3->nbclassic>=0.4.7->notebook>=4.4.1->widgetsnbextension~=3.6.0->ipywidgets<9,>=7.6.0->ipympl) (0.12.0)\n",
            "Requirement already satisfied: jupyter-server-terminals>=0.4.4 in /usr/local/lib/python3.12/dist-packages (from jupyter-server<3,>=1.8->notebook-shim>=0.2.3->nbclassic>=0.4.7->notebook>=4.4.1->widgetsnbextension~=3.6.0->ipywidgets<9,>=7.6.0->ipympl) (0.5.3)\n",
            "Requirement already satisfied: overrides>=5.0 in /usr/local/lib/python3.12/dist-packages (from jupyter-server<3,>=1.8->notebook-shim>=0.2.3->nbclassic>=0.4.7->notebook>=4.4.1->widgetsnbextension~=3.6.0->ipywidgets<9,>=7.6.0->ipympl) (7.7.0)\n",
            "Requirement already satisfied: websocket-client>=1.7 in /usr/local/lib/python3.12/dist-packages (from jupyter-server<3,>=1.8->notebook-shim>=0.2.3->nbclassic>=0.4.7->notebook>=4.4.1->widgetsnbextension~=3.6.0->ipywidgets<9,>=7.6.0->ipympl) (1.8.0)\n",
            "Requirement already satisfied: idna>=2.8 in /usr/local/lib/python3.12/dist-packages (from anyio>=3.1.0->jupyter-server<3,>=1.8->notebook-shim>=0.2.3->nbclassic>=0.4.7->notebook>=4.4.1->widgetsnbextension~=3.6.0->ipywidgets<9,>=7.6.0->ipympl) (3.10)\n",
            "Requirement already satisfied: sniffio>=1.1 in /usr/local/lib/python3.12/dist-packages (from anyio>=3.1.0->jupyter-server<3,>=1.8->notebook-shim>=0.2.3->nbclassic>=0.4.7->notebook>=4.4.1->widgetsnbextension~=3.6.0->ipywidgets<9,>=7.6.0->ipympl) (1.3.1)\n",
            "Requirement already satisfied: python-json-logger>=2.0.4 in /usr/local/lib/python3.12/dist-packages (from jupyter-events>=0.9.0->jupyter-server<3,>=1.8->notebook-shim>=0.2.3->nbclassic>=0.4.7->notebook>=4.4.1->widgetsnbextension~=3.6.0->ipywidgets<9,>=7.6.0->ipympl) (3.3.0)\n",
            "Requirement already satisfied: pyyaml>=5.3 in /usr/local/lib/python3.12/dist-packages (from jupyter-events>=0.9.0->jupyter-server<3,>=1.8->notebook-shim>=0.2.3->nbclassic>=0.4.7->notebook>=4.4.1->widgetsnbextension~=3.6.0->ipywidgets<9,>=7.6.0->ipympl) (6.0.3)\n",
            "Requirement already satisfied: rfc3339-validator in /usr/local/lib/python3.12/dist-packages (from jupyter-events>=0.9.0->jupyter-server<3,>=1.8->notebook-shim>=0.2.3->nbclassic>=0.4.7->notebook>=4.4.1->widgetsnbextension~=3.6.0->ipywidgets<9,>=7.6.0->ipympl) (0.1.4)\n",
            "Requirement already satisfied: rfc3986-validator>=0.1.1 in /usr/local/lib/python3.12/dist-packages (from jupyter-events>=0.9.0->jupyter-server<3,>=1.8->notebook-shim>=0.2.3->nbclassic>=0.4.7->notebook>=4.4.1->widgetsnbextension~=3.6.0->ipywidgets<9,>=7.6.0->ipympl) (0.1.1)\n",
            "Requirement already satisfied: fqdn in /usr/local/lib/python3.12/dist-packages (from jsonschema[format-nongpl]>=4.18.0->jupyter-events>=0.9.0->jupyter-server<3,>=1.8->notebook-shim>=0.2.3->nbclassic>=0.4.7->notebook>=4.4.1->widgetsnbextension~=3.6.0->ipywidgets<9,>=7.6.0->ipympl) (1.5.1)\n",
            "Requirement already satisfied: isoduration in /usr/local/lib/python3.12/dist-packages (from jsonschema[format-nongpl]>=4.18.0->jupyter-events>=0.9.0->jupyter-server<3,>=1.8->notebook-shim>=0.2.3->nbclassic>=0.4.7->notebook>=4.4.1->widgetsnbextension~=3.6.0->ipywidgets<9,>=7.6.0->ipympl) (20.11.0)\n",
            "Requirement already satisfied: jsonpointer>1.13 in /usr/local/lib/python3.12/dist-packages (from jsonschema[format-nongpl]>=4.18.0->jupyter-events>=0.9.0->jupyter-server<3,>=1.8->notebook-shim>=0.2.3->nbclassic>=0.4.7->notebook>=4.4.1->widgetsnbextension~=3.6.0->ipywidgets<9,>=7.6.0->ipympl) (3.0.0)\n",
            "Requirement already satisfied: rfc3987-syntax>=1.1.0 in /usr/local/lib/python3.12/dist-packages (from jsonschema[format-nongpl]>=4.18.0->jupyter-events>=0.9.0->jupyter-server<3,>=1.8->notebook-shim>=0.2.3->nbclassic>=0.4.7->notebook>=4.4.1->widgetsnbextension~=3.6.0->ipywidgets<9,>=7.6.0->ipympl) (1.1.0)\n",
            "Requirement already satisfied: uri-template in /usr/local/lib/python3.12/dist-packages (from jsonschema[format-nongpl]>=4.18.0->jupyter-events>=0.9.0->jupyter-server<3,>=1.8->notebook-shim>=0.2.3->nbclassic>=0.4.7->notebook>=4.4.1->widgetsnbextension~=3.6.0->ipywidgets<9,>=7.6.0->ipympl) (1.3.0)\n",
            "Requirement already satisfied: webcolors>=24.6.0 in /usr/local/lib/python3.12/dist-packages (from jsonschema[format-nongpl]>=4.18.0->jupyter-events>=0.9.0->jupyter-server<3,>=1.8->notebook-shim>=0.2.3->nbclassic>=0.4.7->notebook>=4.4.1->widgetsnbextension~=3.6.0->ipywidgets<9,>=7.6.0->ipympl) (24.11.1)\n",
            "Requirement already satisfied: lark>=1.2.2 in /usr/local/lib/python3.12/dist-packages (from rfc3987-syntax>=1.1.0->jsonschema[format-nongpl]>=4.18.0->jupyter-events>=0.9.0->jupyter-server<3,>=1.8->notebook-shim>=0.2.3->nbclassic>=0.4.7->notebook>=4.4.1->widgetsnbextension~=3.6.0->ipywidgets<9,>=7.6.0->ipympl) (1.3.0)\n",
            "Requirement already satisfied: arrow>=0.15.0 in /usr/local/lib/python3.12/dist-packages (from isoduration->jsonschema[format-nongpl]>=4.18.0->jupyter-events>=0.9.0->jupyter-server<3,>=1.8->notebook-shim>=0.2.3->nbclassic>=0.4.7->notebook>=4.4.1->widgetsnbextension~=3.6.0->ipywidgets<9,>=7.6.0->ipympl) (1.3.0)\n",
            "Requirement already satisfied: types-python-dateutil>=2.8.10 in /usr/local/lib/python3.12/dist-packages (from arrow>=0.15.0->isoduration->jsonschema[format-nongpl]>=4.18.0->jupyter-events>=0.9.0->jupyter-server<3,>=1.8->notebook-shim>=0.2.3->nbclassic>=0.4.7->notebook>=4.4.1->widgetsnbextension~=3.6.0->ipywidgets<9,>=7.6.0->ipympl) (2.9.0.20250822)\n",
            "Downloading ipympl-0.9.7-py3-none-any.whl (515 kB)\n",
            "\u001b[2K   \u001b[90m━━━━━━━━━━━━━━━━━━━━━━━━━━━━━━━━━━━━━━━━\u001b[0m \u001b[32m515.7/515.7 kB\u001b[0m \u001b[31m6.6 MB/s\u001b[0m eta \u001b[36m0:00:00\u001b[0m\n",
            "\u001b[?25hDownloading jedi-0.19.2-py2.py3-none-any.whl (1.6 MB)\n",
            "\u001b[2K   \u001b[90m━━━━━━━━━━━━━━━━━━━━━━━━━━━━━━━━━━━━━━━━\u001b[0m \u001b[32m1.6/1.6 MB\u001b[0m \u001b[31m13.0 MB/s\u001b[0m eta \u001b[36m0:00:00\u001b[0m\n",
            "\u001b[?25hInstalling collected packages: jedi, ipympl\n",
            "Successfully installed ipympl-0.9.7 jedi-0.19.2\n",
            "Collecting rvc3python\n",
            "  Downloading rvc3python-0.9.2-py3-none-any.whl.metadata (17 kB)\n",
            "Downloading rvc3python-0.9.2-py3-none-any.whl (174 kB)\n",
            "\u001b[2K   \u001b[90m━━━━━━━━━━━━━━━━━━━━━━━━━━━━━━━━━━━━━━━━\u001b[0m \u001b[32m174.1/174.1 kB\u001b[0m \u001b[31m4.5 MB/s\u001b[0m eta \u001b[36m0:00:00\u001b[0m\n",
            "\u001b[?25hInstalling collected packages: rvc3python\n",
            "Successfully installed rvc3python-0.9.2\n"
          ]
        },
        {
          "output_type": "error",
          "ename": "ValueError",
          "evalue": "Key backend: 'module://ipympl.backend_nbagg' is not a valid value for backend; supported values are ['gtk3agg', 'gtk3cairo', 'gtk4agg', 'gtk4cairo', 'macosx', 'nbagg', 'notebook', 'qtagg', 'qtcairo', 'qt5agg', 'qt5cairo', 'tkagg', 'tkcairo', 'webagg', 'wx', 'wxagg', 'wxcairo', 'agg', 'cairo', 'pdf', 'pgf', 'ps', 'svg', 'template', 'inline']",
          "traceback": [
            "\u001b[0;31m---------------------------------------------------------------------------\u001b[0m",
            "\u001b[0;31mValueError\u001b[0m                                Traceback (most recent call last)",
            "\u001b[0;32m/tmp/ipython-input-22178755.py\u001b[0m in \u001b[0;36m<cell line: 0>\u001b[0;34m()\u001b[0m\n\u001b[1;32m     14\u001b[0m \u001b[0;32mfrom\u001b[0m \u001b[0mIPython\u001b[0m\u001b[0;34m.\u001b[0m\u001b[0mdisplay\u001b[0m \u001b[0;32mimport\u001b[0m \u001b[0mHTML\u001b[0m\u001b[0;34m\u001b[0m\u001b[0;34m\u001b[0m\u001b[0m\n\u001b[1;32m     15\u001b[0m \u001b[0;34m\u001b[0m\u001b[0m\n\u001b[0;32m---> 16\u001b[0;31m \u001b[0mget_ipython\u001b[0m\u001b[0;34m(\u001b[0m\u001b[0;34m)\u001b[0m\u001b[0;34m.\u001b[0m\u001b[0mrun_line_magic\u001b[0m\u001b[0;34m(\u001b[0m\u001b[0;34m'matplotlib'\u001b[0m\u001b[0;34m,\u001b[0m \u001b[0;34m'widget'\u001b[0m\u001b[0;34m)\u001b[0m\u001b[0;34m\u001b[0m\u001b[0;34m\u001b[0m\u001b[0m\n\u001b[0m\u001b[1;32m     17\u001b[0m \u001b[0;32mimport\u001b[0m \u001b[0mmatplotlib\u001b[0m\u001b[0;34m.\u001b[0m\u001b[0mpyplot\u001b[0m \u001b[0;32mas\u001b[0m \u001b[0mplt\u001b[0m\u001b[0;34m\u001b[0m\u001b[0;34m\u001b[0m\u001b[0m\n\u001b[1;32m     18\u001b[0m \u001b[0;34m\u001b[0m\u001b[0m\n",
            "\u001b[0;32m/usr/local/lib/python3.12/dist-packages/IPython/core/interactiveshell.py\u001b[0m in \u001b[0;36mrun_line_magic\u001b[0;34m(self, magic_name, line, _stack_depth)\u001b[0m\n\u001b[1;32m   2416\u001b[0m                 \u001b[0mkwargs\u001b[0m\u001b[0;34m[\u001b[0m\u001b[0;34m'local_ns'\u001b[0m\u001b[0;34m]\u001b[0m \u001b[0;34m=\u001b[0m \u001b[0mself\u001b[0m\u001b[0;34m.\u001b[0m\u001b[0mget_local_scope\u001b[0m\u001b[0;34m(\u001b[0m\u001b[0mstack_depth\u001b[0m\u001b[0;34m)\u001b[0m\u001b[0;34m\u001b[0m\u001b[0;34m\u001b[0m\u001b[0m\n\u001b[1;32m   2417\u001b[0m             \u001b[0;32mwith\u001b[0m \u001b[0mself\u001b[0m\u001b[0;34m.\u001b[0m\u001b[0mbuiltin_trap\u001b[0m\u001b[0;34m:\u001b[0m\u001b[0;34m\u001b[0m\u001b[0;34m\u001b[0m\u001b[0m\n\u001b[0;32m-> 2418\u001b[0;31m                 \u001b[0mresult\u001b[0m \u001b[0;34m=\u001b[0m \u001b[0mfn\u001b[0m\u001b[0;34m(\u001b[0m\u001b[0;34m*\u001b[0m\u001b[0margs\u001b[0m\u001b[0;34m,\u001b[0m \u001b[0;34m**\u001b[0m\u001b[0mkwargs\u001b[0m\u001b[0;34m)\u001b[0m\u001b[0;34m\u001b[0m\u001b[0;34m\u001b[0m\u001b[0m\n\u001b[0m\u001b[1;32m   2419\u001b[0m             \u001b[0;32mreturn\u001b[0m \u001b[0mresult\u001b[0m\u001b[0;34m\u001b[0m\u001b[0;34m\u001b[0m\u001b[0m\n\u001b[1;32m   2420\u001b[0m \u001b[0;34m\u001b[0m\u001b[0m\n",
            "\u001b[0;32m<decorator-gen-101>\u001b[0m in \u001b[0;36mmatplotlib\u001b[0;34m(self, line)\u001b[0m\n",
            "\u001b[0;32m/usr/local/lib/python3.12/dist-packages/IPython/core/magic.py\u001b[0m in \u001b[0;36m<lambda>\u001b[0;34m(f, *a, **k)\u001b[0m\n\u001b[1;32m    185\u001b[0m     \u001b[0;31m# but it's overkill for just that one bit of state.\u001b[0m\u001b[0;34m\u001b[0m\u001b[0;34m\u001b[0m\u001b[0m\n\u001b[1;32m    186\u001b[0m     \u001b[0;32mdef\u001b[0m \u001b[0mmagic_deco\u001b[0m\u001b[0;34m(\u001b[0m\u001b[0marg\u001b[0m\u001b[0;34m)\u001b[0m\u001b[0;34m:\u001b[0m\u001b[0;34m\u001b[0m\u001b[0;34m\u001b[0m\u001b[0m\n\u001b[0;32m--> 187\u001b[0;31m         \u001b[0mcall\u001b[0m \u001b[0;34m=\u001b[0m \u001b[0;32mlambda\u001b[0m \u001b[0mf\u001b[0m\u001b[0;34m,\u001b[0m \u001b[0;34m*\u001b[0m\u001b[0ma\u001b[0m\u001b[0;34m,\u001b[0m \u001b[0;34m**\u001b[0m\u001b[0mk\u001b[0m\u001b[0;34m:\u001b[0m \u001b[0mf\u001b[0m\u001b[0;34m(\u001b[0m\u001b[0;34m*\u001b[0m\u001b[0ma\u001b[0m\u001b[0;34m,\u001b[0m \u001b[0;34m**\u001b[0m\u001b[0mk\u001b[0m\u001b[0;34m)\u001b[0m\u001b[0;34m\u001b[0m\u001b[0;34m\u001b[0m\u001b[0m\n\u001b[0m\u001b[1;32m    188\u001b[0m \u001b[0;34m\u001b[0m\u001b[0m\n\u001b[1;32m    189\u001b[0m         \u001b[0;32mif\u001b[0m \u001b[0mcallable\u001b[0m\u001b[0;34m(\u001b[0m\u001b[0marg\u001b[0m\u001b[0;34m)\u001b[0m\u001b[0;34m:\u001b[0m\u001b[0;34m\u001b[0m\u001b[0;34m\u001b[0m\u001b[0m\n",
            "\u001b[0;32m/usr/local/lib/python3.12/dist-packages/IPython/core/magics/pylab.py\u001b[0m in \u001b[0;36mmatplotlib\u001b[0;34m(self, line)\u001b[0m\n\u001b[1;32m     97\u001b[0m             \u001b[0mprint\u001b[0m\u001b[0;34m(\u001b[0m\u001b[0;34m\"Available matplotlib backends: %s\"\u001b[0m \u001b[0;34m%\u001b[0m \u001b[0mbackends_list\u001b[0m\u001b[0;34m)\u001b[0m\u001b[0;34m\u001b[0m\u001b[0;34m\u001b[0m\u001b[0m\n\u001b[1;32m     98\u001b[0m         \u001b[0;32melse\u001b[0m\u001b[0;34m:\u001b[0m\u001b[0;34m\u001b[0m\u001b[0;34m\u001b[0m\u001b[0m\n\u001b[0;32m---> 99\u001b[0;31m             \u001b[0mgui\u001b[0m\u001b[0;34m,\u001b[0m \u001b[0mbackend\u001b[0m \u001b[0;34m=\u001b[0m \u001b[0mself\u001b[0m\u001b[0;34m.\u001b[0m\u001b[0mshell\u001b[0m\u001b[0;34m.\u001b[0m\u001b[0menable_matplotlib\u001b[0m\u001b[0;34m(\u001b[0m\u001b[0margs\u001b[0m\u001b[0;34m.\u001b[0m\u001b[0mgui\u001b[0m\u001b[0;34m.\u001b[0m\u001b[0mlower\u001b[0m\u001b[0;34m(\u001b[0m\u001b[0;34m)\u001b[0m \u001b[0;32mif\u001b[0m \u001b[0misinstance\u001b[0m\u001b[0;34m(\u001b[0m\u001b[0margs\u001b[0m\u001b[0;34m.\u001b[0m\u001b[0mgui\u001b[0m\u001b[0;34m,\u001b[0m \u001b[0mstr\u001b[0m\u001b[0;34m)\u001b[0m \u001b[0;32melse\u001b[0m \u001b[0margs\u001b[0m\u001b[0;34m.\u001b[0m\u001b[0mgui\u001b[0m\u001b[0;34m)\u001b[0m\u001b[0;34m\u001b[0m\u001b[0;34m\u001b[0m\u001b[0m\n\u001b[0m\u001b[1;32m    100\u001b[0m             \u001b[0mself\u001b[0m\u001b[0;34m.\u001b[0m\u001b[0m_show_matplotlib_backend\u001b[0m\u001b[0;34m(\u001b[0m\u001b[0margs\u001b[0m\u001b[0;34m.\u001b[0m\u001b[0mgui\u001b[0m\u001b[0;34m,\u001b[0m \u001b[0mbackend\u001b[0m\u001b[0;34m)\u001b[0m\u001b[0;34m\u001b[0m\u001b[0;34m\u001b[0m\u001b[0m\n\u001b[1;32m    101\u001b[0m \u001b[0;34m\u001b[0m\u001b[0m\n",
            "\u001b[0;32m/usr/local/lib/python3.12/dist-packages/IPython/core/interactiveshell.py\u001b[0m in \u001b[0;36menable_matplotlib\u001b[0;34m(self, gui)\u001b[0m\n\u001b[1;32m   3645\u001b[0m                 \u001b[0mgui\u001b[0m\u001b[0;34m,\u001b[0m \u001b[0mbackend\u001b[0m \u001b[0;34m=\u001b[0m \u001b[0mpt\u001b[0m\u001b[0;34m.\u001b[0m\u001b[0mfind_gui_and_backend\u001b[0m\u001b[0;34m(\u001b[0m\u001b[0mself\u001b[0m\u001b[0;34m.\u001b[0m\u001b[0mpylab_gui_select\u001b[0m\u001b[0;34m)\u001b[0m\u001b[0;34m\u001b[0m\u001b[0;34m\u001b[0m\u001b[0m\n\u001b[1;32m   3646\u001b[0m \u001b[0;34m\u001b[0m\u001b[0m\n\u001b[0;32m-> 3647\u001b[0;31m         \u001b[0mpt\u001b[0m\u001b[0;34m.\u001b[0m\u001b[0mactivate_matplotlib\u001b[0m\u001b[0;34m(\u001b[0m\u001b[0mbackend\u001b[0m\u001b[0;34m)\u001b[0m\u001b[0;34m\u001b[0m\u001b[0;34m\u001b[0m\u001b[0m\n\u001b[0m\u001b[1;32m   3648\u001b[0m         \u001b[0mconfigure_inline_support\u001b[0m\u001b[0;34m(\u001b[0m\u001b[0mself\u001b[0m\u001b[0;34m,\u001b[0m \u001b[0mbackend\u001b[0m\u001b[0;34m)\u001b[0m\u001b[0;34m\u001b[0m\u001b[0;34m\u001b[0m\u001b[0m\n\u001b[1;32m   3649\u001b[0m \u001b[0;34m\u001b[0m\u001b[0m\n",
            "\u001b[0;32m/usr/local/lib/python3.12/dist-packages/IPython/core/pylabtools.py\u001b[0m in \u001b[0;36mactivate_matplotlib\u001b[0;34m(backend)\u001b[0m\n\u001b[1;32m    350\u001b[0m     \u001b[0;31m# the rcParam to update. This needs to be set *before* the module\u001b[0m\u001b[0;34m\u001b[0m\u001b[0;34m\u001b[0m\u001b[0m\n\u001b[1;32m    351\u001b[0m     \u001b[0;31m# magic of switch_backend().\u001b[0m\u001b[0;34m\u001b[0m\u001b[0;34m\u001b[0m\u001b[0m\n\u001b[0;32m--> 352\u001b[0;31m     \u001b[0mmatplotlib\u001b[0m\u001b[0;34m.\u001b[0m\u001b[0mrcParams\u001b[0m\u001b[0;34m[\u001b[0m\u001b[0;34m'backend'\u001b[0m\u001b[0;34m]\u001b[0m \u001b[0;34m=\u001b[0m \u001b[0mbackend\u001b[0m\u001b[0;34m\u001b[0m\u001b[0;34m\u001b[0m\u001b[0m\n\u001b[0m\u001b[1;32m    353\u001b[0m \u001b[0;34m\u001b[0m\u001b[0m\n\u001b[1;32m    354\u001b[0m     \u001b[0;31m# Due to circular imports, pyplot may be only partially initialised\u001b[0m\u001b[0;34m\u001b[0m\u001b[0;34m\u001b[0m\u001b[0m\n",
            "\u001b[0;32m/usr/local/lib/python3.12/dist-packages/matplotlib/__init__.py\u001b[0m in \u001b[0;36m__setitem__\u001b[0;34m(self, key, val)\u001b[0m\n\u001b[1;32m    769\u001b[0m                 \u001b[0mcval\u001b[0m \u001b[0;34m=\u001b[0m \u001b[0mself\u001b[0m\u001b[0;34m.\u001b[0m\u001b[0mvalidate\u001b[0m\u001b[0;34m[\u001b[0m\u001b[0mkey\u001b[0m\u001b[0;34m]\u001b[0m\u001b[0;34m(\u001b[0m\u001b[0mval\u001b[0m\u001b[0;34m)\u001b[0m\u001b[0;34m\u001b[0m\u001b[0;34m\u001b[0m\u001b[0m\n\u001b[1;32m    770\u001b[0m             \u001b[0;32mexcept\u001b[0m \u001b[0mValueError\u001b[0m \u001b[0;32mas\u001b[0m \u001b[0mve\u001b[0m\u001b[0;34m:\u001b[0m\u001b[0;34m\u001b[0m\u001b[0;34m\u001b[0m\u001b[0m\n\u001b[0;32m--> 771\u001b[0;31m                 \u001b[0;32mraise\u001b[0m \u001b[0mValueError\u001b[0m\u001b[0;34m(\u001b[0m\u001b[0;34mf\"Key {key}: {ve}\"\u001b[0m\u001b[0;34m)\u001b[0m \u001b[0;32mfrom\u001b[0m \u001b[0;32mNone\u001b[0m\u001b[0;34m\u001b[0m\u001b[0;34m\u001b[0m\u001b[0m\n\u001b[0m\u001b[1;32m    772\u001b[0m             \u001b[0mself\u001b[0m\u001b[0;34m.\u001b[0m\u001b[0m_set\u001b[0m\u001b[0;34m(\u001b[0m\u001b[0mkey\u001b[0m\u001b[0;34m,\u001b[0m \u001b[0mcval\u001b[0m\u001b[0;34m)\u001b[0m\u001b[0;34m\u001b[0m\u001b[0;34m\u001b[0m\u001b[0m\n\u001b[1;32m    773\u001b[0m         \u001b[0;32mexcept\u001b[0m \u001b[0mKeyError\u001b[0m \u001b[0;32mas\u001b[0m \u001b[0merr\u001b[0m\u001b[0;34m:\u001b[0m\u001b[0;34m\u001b[0m\u001b[0;34m\u001b[0m\u001b[0m\n",
            "\u001b[0;31mValueError\u001b[0m: Key backend: 'module://ipympl.backend_nbagg' is not a valid value for backend; supported values are ['gtk3agg', 'gtk3cairo', 'gtk4agg', 'gtk4cairo', 'macosx', 'nbagg', 'notebook', 'qtagg', 'qtcairo', 'qt5agg', 'qt5cairo', 'tkagg', 'tkcairo', 'webagg', 'wx', 'wxagg', 'wxcairo', 'agg', 'cairo', 'pdf', 'pgf', 'ps', 'svg', 'template', 'inline']"
          ]
        }
      ],
      "source": [
        "try:\n",
        "    from google.colab import output\n",
        "    print('Running on CoLab')\n",
        "    output.enable_custom_widget_manager()\n",
        "    !pip install ipympl\n",
        "    !pip install roboticstoolbox-python>=1.0.2\n",
        "    !pip install --no-deps rvc3python\n",
        "    COLAB = True\n",
        "except ModuleNotFoundError:\n",
        "    COLAB = False\n",
        "\n",
        "from IPython.core.interactiveshell import InteractiveShell\n",
        "InteractiveShell.ast_node_interactivity = \"last_expr_or_assign\"\n",
        "from IPython.display import HTML\n",
        "\n",
        "%matplotlib widget\n",
        "import matplotlib.pyplot as plt\n",
        "\n",
        "# add RTB examples folder to the path\n",
        "import sys, os.path\n",
        "import RVC3 as rvc\n",
        "sys.path.append(os.path.join(rvc.__path__[0], 'models'))\n",
        "\n",
        "# helper function to run bdsim in a subprocess and transfer results using a pickle file\n",
        "import pickle\n",
        "def run_shell(tool, **params):\n",
        "    global out\n",
        "    pyfile = os.path.join(rvc.__path__[0], \"models\", tool+\".py\")\n",
        "    cmd = f\"python {pyfile} -H +a -o\"\n",
        "    for key, value in params.items():\n",
        "        cmd += f' --global \"{key}={value}\"'\n",
        "    print(cmd)\n",
        "    os.system(cmd)\n",
        "    with open(\"bd.out\", \"rb\") as f:\n",
        "        out = pickle.load(f)\n",
        "\n",
        "# ------ standard imports ------ #\n",
        "import numpy as np\n",
        "from scipy import optimize\n",
        "import math\n",
        "from math import pi\n",
        "np.set_printoptions(\n",
        "    linewidth=120, formatter={\n",
        "        'float': lambda x: f\"{0:8.4g}\" if abs(x) < 1e-10 else f\"{x:8.4g}\"})\n",
        "np.random.seed(0)\n",
        "from spatialmath import *\n",
        "from spatialmath.base import *\n",
        "from roboticstoolbox import *"
      ]
    },
    {
      "cell_type": "markdown",
      "id": "73955b81",
      "metadata": {
        "id": "73955b81"
      },
      "source": [
        "# 7.1 Forward Kinematics\n"
      ]
    },
    {
      "cell_type": "markdown",
      "id": "3f91f95d",
      "metadata": {
        "id": "3f91f95d"
      },
      "source": [
        "## 7.1.1 Forward kinematics from a pose graph\n"
      ]
    },
    {
      "cell_type": "markdown",
      "id": "ceb43952",
      "metadata": {
        "id": "ceb43952"
      },
      "source": [
        "### 7.1.1.1 2-Dimensional (Planar) Robotic Arms\n"
      ]
    },
    {
      "cell_type": "code",
      "execution_count": null,
      "id": "9c6da426",
      "metadata": {
        "id": "9c6da426"
      },
      "outputs": [],
      "source": [
        "a1 = 1;\n",
        "e = ET2.R() * ET2.tx(a1);"
      ]
    },
    {
      "cell_type": "code",
      "execution_count": null,
      "id": "a863cc1a",
      "metadata": {
        "id": "a863cc1a"
      },
      "outputs": [],
      "source": [
        "len(e)"
      ]
    },
    {
      "cell_type": "code",
      "execution_count": null,
      "id": "833d969c",
      "metadata": {
        "id": "833d969c"
      },
      "outputs": [],
      "source": [
        "e"
      ]
    },
    {
      "cell_type": "code",
      "execution_count": null,
      "id": "e5da4d1d",
      "metadata": {
        "id": "e5da4d1d"
      },
      "outputs": [],
      "source": [
        "e.fkine(pi / 6)"
      ]
    },
    {
      "cell_type": "code",
      "execution_count": null,
      "id": "6564bc09",
      "metadata": {
        "id": "6564bc09"
      },
      "outputs": [],
      "source": [
        "SE2.Rot(pi / 6) * SE2.Tx(a1)"
      ]
    },
    {
      "cell_type": "code",
      "execution_count": null,
      "id": "caab97dd",
      "metadata": {
        "id": "caab97dd"
      },
      "outputs": [],
      "source": [
        "# e.teach(0)  # not working in Jupyter\n",
        "e.plot(0)"
      ]
    },
    {
      "cell_type": "code",
      "execution_count": null,
      "id": "472b977f",
      "metadata": {
        "id": "472b977f"
      },
      "outputs": [],
      "source": [
        "a1 = 1; a2 = 1;\n",
        "e = ET2.R() * ET2.tx(a1) * ET2.R() * ET2.tx(a2);"
      ]
    },
    {
      "cell_type": "code",
      "execution_count": null,
      "id": "69abd7f6",
      "metadata": {
        "id": "69abd7f6"
      },
      "outputs": [],
      "source": [
        "e"
      ]
    },
    {
      "cell_type": "code",
      "execution_count": null,
      "id": "b8291d6b",
      "metadata": {
        "id": "b8291d6b"
      },
      "outputs": [],
      "source": [
        "e.fkine(np.deg2rad([30, 40])).printline()"
      ]
    },
    {
      "cell_type": "code",
      "execution_count": null,
      "id": "7de0a0e9",
      "metadata": {
        "id": "7de0a0e9"
      },
      "outputs": [],
      "source": [
        "T = SE2.Rot(np.deg2rad(30)) * SE2.Tx(a1) * SE2.Rot(np.deg2rad(40)) * SE2.Tx(a2);\n",
        "T.printline()"
      ]
    },
    {
      "cell_type": "code",
      "execution_count": null,
      "id": "1d522933",
      "metadata": {
        "id": "1d522933"
      },
      "outputs": [],
      "source": [
        "e.n\n",
        "e.joints()"
      ]
    },
    {
      "cell_type": "code",
      "execution_count": null,
      "id": "952d8f34",
      "metadata": {
        "id": "952d8f34"
      },
      "outputs": [],
      "source": [
        "e.structure"
      ]
    },
    {
      "cell_type": "code",
      "execution_count": null,
      "id": "3cada374",
      "metadata": {
        "id": "3cada374"
      },
      "outputs": [],
      "source": [
        "e.plot(np.deg2rad([30, 40]));"
      ]
    },
    {
      "cell_type": "code",
      "execution_count": null,
      "id": "7d0baf9a",
      "metadata": {
        "id": "7d0baf9a"
      },
      "outputs": [],
      "source": [
        "e[1]"
      ]
    },
    {
      "cell_type": "code",
      "execution_count": null,
      "id": "797c123b",
      "metadata": {
        "id": "797c123b"
      },
      "outputs": [],
      "source": [
        "e[1].eta\n",
        "e[1].A()"
      ]
    },
    {
      "cell_type": "code",
      "execution_count": null,
      "id": "aa47d68b",
      "metadata": {
        "id": "aa47d68b"
      },
      "outputs": [],
      "source": [
        "e = ET2.R() * ET2.tx(qlim=[1,2])"
      ]
    },
    {
      "cell_type": "code",
      "execution_count": null,
      "id": "cc84e466",
      "metadata": {
        "id": "cc84e466"
      },
      "outputs": [],
      "source": [
        "e.structure"
      ]
    },
    {
      "cell_type": "markdown",
      "id": "ed75c7e4",
      "metadata": {
        "id": "ed75c7e4"
      },
      "source": [
        "### 7.1.1.2 3-Dimensional Robotic Arms\n"
      ]
    },
    {
      "cell_type": "code",
      "execution_count": null,
      "id": "82a4b294",
      "metadata": {
        "id": "82a4b294"
      },
      "outputs": [],
      "source": [
        "a1 = 1; a2 = 1;\n",
        "e = ET.Rz() * ET.Ry() \\\n",
        "     * ET.tz(a1) * ET.Ry() * ET.tz(a2) \\\n",
        "     * ET.Rz() * ET.Ry() * ET.Rz();"
      ]
    },
    {
      "cell_type": "code",
      "execution_count": null,
      "id": "36aa9974",
      "metadata": {
        "id": "36aa9974"
      },
      "outputs": [],
      "source": [
        "e.n\n",
        "e.structure"
      ]
    },
    {
      "cell_type": "code",
      "execution_count": null,
      "id": "29e9a28b",
      "metadata": {
        "id": "29e9a28b"
      },
      "outputs": [],
      "source": [
        "e.fkine(np.zeros((6,)))"
      ]
    },
    {
      "cell_type": "markdown",
      "id": "c9212ce5",
      "metadata": {
        "id": "c9212ce5"
      },
      "source": [
        "## 7.1.2 Forward kinematics as a chain of robot links\n"
      ]
    },
    {
      "cell_type": "markdown",
      "id": "196dbf8e",
      "metadata": {
        "id": "196dbf8e"
      },
      "source": [
        "### 7.1.2.1 2-Dimensional (Planar) case\n"
      ]
    },
    {
      "cell_type": "code",
      "execution_count": null,
      "id": "77190b24",
      "metadata": {
        "id": "77190b24"
      },
      "outputs": [],
      "source": [
        "link1 = Link2(ET2.R(), name=\"link1\");\n",
        "link2 = Link2(ET2.tx(1) * ET2.R(), name=\"link2\", parent=link1);\n",
        "link3 = Link2(ET2.tx(1), name=\"link3\", parent=link2);"
      ]
    },
    {
      "cell_type": "code",
      "execution_count": null,
      "id": "85bf3bf7",
      "metadata": {
        "id": "85bf3bf7"
      },
      "outputs": [],
      "source": [
        "robot = ERobot2([link1, link2, link3], name=\"my robot\")"
      ]
    },
    {
      "cell_type": "code",
      "execution_count": null,
      "id": "c04b06c9",
      "metadata": {
        "id": "c04b06c9"
      },
      "outputs": [],
      "source": [
        "robot.fkine(np.deg2rad([30, 40])).printline()"
      ]
    },
    {
      "cell_type": "code",
      "execution_count": null,
      "id": "1c1d0ed2",
      "metadata": {
        "id": "1c1d0ed2"
      },
      "outputs": [],
      "source": [
        "robot.plot(np.deg2rad([30, 40]));"
      ]
    },
    {
      "cell_type": "code",
      "execution_count": null,
      "id": "fb0bd95b",
      "metadata": {
        "id": "fb0bd95b"
      },
      "outputs": [],
      "source": [
        "q = np.array([np.linspace(0, pi, 100), np.linspace(0, -2 * pi, 100)]).T;\n",
        "q.shape\n",
        "robot.plot(q);"
      ]
    },
    {
      "cell_type": "code",
      "execution_count": null,
      "id": "59c6e900",
      "metadata": {
        "id": "59c6e900"
      },
      "outputs": [],
      "source": [
        "robot[1]"
      ]
    },
    {
      "cell_type": "code",
      "execution_count": null,
      "id": "d6156447",
      "metadata": {
        "id": "d6156447"
      },
      "outputs": [],
      "source": [
        "robot[\"link2\"]"
      ]
    },
    {
      "cell_type": "code",
      "execution_count": null,
      "id": "ba45b391",
      "metadata": {
        "id": "ba45b391"
      },
      "outputs": [],
      "source": [
        "robot.ee_links"
      ]
    },
    {
      "cell_type": "code",
      "execution_count": null,
      "id": "24fa72f8",
      "metadata": {
        "id": "24fa72f8"
      },
      "outputs": [],
      "source": [
        "link2.parent"
      ]
    },
    {
      "cell_type": "code",
      "execution_count": null,
      "id": "8fb199f2",
      "metadata": {
        "id": "8fb199f2"
      },
      "outputs": [],
      "source": [
        "link2.children"
      ]
    },
    {
      "cell_type": "code",
      "execution_count": null,
      "id": "4a368422",
      "metadata": {
        "id": "4a368422"
      },
      "outputs": [],
      "source": [
        "link2.jindex"
      ]
    },
    {
      "cell_type": "code",
      "execution_count": null,
      "id": "38440457",
      "metadata": {
        "id": "38440457"
      },
      "outputs": [],
      "source": [
        "link2.isrevolute\n",
        "link2.isprismatic"
      ]
    },
    {
      "cell_type": "code",
      "execution_count": null,
      "id": "42ba3b39",
      "metadata": {
        "id": "42ba3b39"
      },
      "outputs": [],
      "source": [
        "print(link2.qlim)"
      ]
    },
    {
      "cell_type": "code",
      "execution_count": null,
      "id": "69753ff2",
      "metadata": {
        "id": "69753ff2"
      },
      "outputs": [],
      "source": [
        "link2.A(pi / 6)"
      ]
    },
    {
      "cell_type": "code",
      "execution_count": null,
      "id": "4a0c7809",
      "metadata": {
        "id": "4a0c7809"
      },
      "outputs": [],
      "source": [
        "link2.ets"
      ]
    },
    {
      "cell_type": "markdown",
      "id": "37f52b17",
      "metadata": {
        "id": "37f52b17"
      },
      "source": [
        "### 7.1.2.2 3-Dimensional case\n"
      ]
    },
    {
      "cell_type": "code",
      "execution_count": null,
      "id": "c21cb5ae",
      "metadata": {
        "id": "c21cb5ae"
      },
      "outputs": [],
      "source": [
        "a1 = 1; a2 = 1;\n",
        "robot6 = ERobot(ET.Rz() * ET.Ry() * ET.tz(a1) * ET.Ry() \\\n",
        "                * ET.tz(a2) * ET.Rz() * ET.Ry() * ET.Rz())"
      ]
    },
    {
      "cell_type": "code",
      "execution_count": null,
      "id": "d4b68cec",
      "metadata": {
        "id": "d4b68cec"
      },
      "outputs": [],
      "source": [
        "models.list(type=\"ETS\")"
      ]
    },
    {
      "cell_type": "code",
      "execution_count": null,
      "id": "a95f5559",
      "metadata": {
        "id": "a95f5559"
      },
      "outputs": [],
      "source": [
        "panda = models.ETS.Panda()"
      ]
    },
    {
      "cell_type": "code",
      "execution_count": null,
      "id": "aa8ecac0",
      "metadata": {
        "id": "aa8ecac0"
      },
      "outputs": [],
      "source": [
        "panda.qr"
      ]
    },
    {
      "cell_type": "code",
      "execution_count": null,
      "id": "fbbb7053",
      "metadata": {
        "id": "fbbb7053"
      },
      "outputs": [],
      "source": [
        "panda.addconfiguration(\"foo\", [1, 2, 3, 4, 5, 6, 7])"
      ]
    },
    {
      "cell_type": "code",
      "execution_count": null,
      "id": "3911ba03",
      "metadata": {
        "id": "3911ba03"
      },
      "outputs": [],
      "source": [
        "panda.configs[\"foo\"];\n",
        "panda.configs[\"qz\"];"
      ]
    },
    {
      "cell_type": "code",
      "execution_count": null,
      "id": "cfe58d64",
      "metadata": {
        "id": "cfe58d64"
      },
      "outputs": [],
      "source": [
        "panda.fkine(panda.qr).printline()"
      ]
    },
    {
      "cell_type": "code",
      "execution_count": null,
      "id": "77e74447",
      "metadata": {
        "id": "77e74447"
      },
      "outputs": [],
      "source": [
        "panda.plot(panda.qr);"
      ]
    },
    {
      "cell_type": "code",
      "execution_count": null,
      "id": "5319dc43",
      "metadata": {
        "id": "5319dc43"
      },
      "outputs": [],
      "source": [
        "T = panda.fkine_all(panda.qr);\n",
        "len(T)"
      ]
    },
    {
      "cell_type": "code",
      "execution_count": null,
      "id": "6669ee7b",
      "metadata": {
        "id": "6669ee7b"
      },
      "outputs": [],
      "source": [
        "T[1].printline()"
      ]
    },
    {
      "cell_type": "markdown",
      "id": "ed6a3ab3",
      "metadata": {
        "id": "ed6a3ab3"
      },
      "source": [
        "### 7.1.2.3 Tools and bases\n"
      ]
    },
    {
      "cell_type": "code",
      "execution_count": null,
      "id": "62c5a5e8",
      "metadata": {
        "id": "62c5a5e8"
      },
      "outputs": [],
      "source": [
        "panda.base = SE3.Tz(3) * SE3.Rx(pi); # robot is 3m up and hanging down\n",
        "panda.tool = SE3.Tz(0.15); # tool is 150mm long in z-direction"
      ]
    },
    {
      "cell_type": "code",
      "execution_count": null,
      "id": "2a9fd255",
      "metadata": {
        "id": "2a9fd255"
      },
      "outputs": [],
      "source": [
        "panda.fkine(panda.qr, tool=SE3.Trans(0.05, 0.02, 0.20) * SE3.Rz(np.deg2rad(45)));"
      ]
    },
    {
      "cell_type": "markdown",
      "id": "b21c259c",
      "metadata": {
        "id": "b21c259c"
      },
      "source": [
        "## 7.1.3 Branched robots\n"
      ]
    },
    {
      "cell_type": "markdown",
      "id": "26fe3d25",
      "metadata": {
        "id": "26fe3d25"
      },
      "source": [
        "### 7.1.3.1 2D (Planar) Branched robots\n"
      ]
    },
    {
      "cell_type": "code",
      "execution_count": null,
      "id": "97b2ddeb",
      "metadata": {
        "id": "97b2ddeb"
      },
      "outputs": [],
      "source": [
        "robot = ERobot2([\n",
        "  Link2(ET2.R(), name=\"link1\"),\n",
        "  Link2(ET2.tx(1) * ET2.tx(1.2) * ET2.ty(-0.5) * ET2.R(), name=\"link2\", parent=\"link1\"),\n",
        "  Link2(ET2.tx(1), name=\"ee_1\", parent=\"link2\"),\n",
        "  Link2(ET2.tx(1) * ET2.tx(0.6) * ET2.ty(0.5) * ET2.R(), name=\"link3\", parent=\"link1\"),\n",
        "  Link2(ET2.tx(1), name=\"ee_2\", parent=\"link3\") ], name=\"branched\");"
      ]
    },
    {
      "cell_type": "code",
      "execution_count": null,
      "id": "23c77c40",
      "metadata": {
        "id": "23c77c40"
      },
      "outputs": [],
      "source": [
        "robot[\"link1\"].children"
      ]
    },
    {
      "cell_type": "code",
      "execution_count": null,
      "id": "9fba6ccd",
      "metadata": {
        "id": "9fba6ccd"
      },
      "outputs": [],
      "source": [
        "robot"
      ]
    },
    {
      "cell_type": "code",
      "execution_count": null,
      "id": "916c9931",
      "metadata": {
        "id": "916c9931"
      },
      "outputs": [],
      "source": [
        "robot.showgraph()"
      ]
    },
    {
      "cell_type": "code",
      "execution_count": null,
      "id": "083c61a1",
      "metadata": {
        "id": "083c61a1"
      },
      "outputs": [],
      "source": [
        "# robot.teach()\n",
        "plt.figure()\n",
        "robot.plot([0.3, 0.4, -0.6]);"
      ]
    },
    {
      "cell_type": "code",
      "execution_count": null,
      "id": "85ca2de4",
      "metadata": {
        "id": "85ca2de4"
      },
      "outputs": [],
      "source": [
        "robot.fkine([0.3, 0.4, -0.6], end=\"ee_2\")"
      ]
    },
    {
      "cell_type": "code",
      "execution_count": null,
      "id": "f4be9a77",
      "metadata": {
        "id": "f4be9a77"
      },
      "outputs": [],
      "source": [
        "robot.fkine([0.3, 0.4, -0.6], end=\"ee_2\", start=\"ee_1\")"
      ]
    },
    {
      "cell_type": "markdown",
      "id": "1a1918db",
      "metadata": {
        "id": "1a1918db"
      },
      "source": [
        "## 7.1.4 Unified Robot Description Format (URDF)\n"
      ]
    },
    {
      "cell_type": "code",
      "execution_count": null,
      "id": "c8b03b76",
      "metadata": {
        "id": "c8b03b76"
      },
      "outputs": [],
      "source": [
        "urdf, *_ = ERobot.URDF_read(\"ur_description/urdf/ur5_joint_limited_robot.urdf.xacro\")\n",
        "urdf"
      ]
    },
    {
      "cell_type": "code",
      "execution_count": null,
      "id": "90c2bff3",
      "metadata": {
        "id": "90c2bff3"
      },
      "outputs": [],
      "source": [
        "ur5 = models.URDF.UR5()"
      ]
    },
    {
      "cell_type": "code",
      "execution_count": null,
      "id": "4f5c93f0",
      "metadata": {
        "id": "4f5c93f0"
      },
      "outputs": [],
      "source": [
        "ur5.showgraph()"
      ]
    },
    {
      "cell_type": "code",
      "execution_count": null,
      "id": "9ae2922c",
      "metadata": {
        "id": "9ae2922c"
      },
      "outputs": [],
      "source": [
        "ur5.grippers"
      ]
    },
    {
      "cell_type": "code",
      "execution_count": null,
      "id": "327e1237",
      "metadata": {
        "id": "327e1237"
      },
      "outputs": [],
      "source": [
        "ur5.plot(ur5.qr);"
      ]
    },
    {
      "cell_type": "code",
      "execution_count": null,
      "id": "f82fb5b0",
      "metadata": {
        "id": "f82fb5b0"
      },
      "outputs": [],
      "source": [
        "ur5.dynamics()"
      ]
    },
    {
      "cell_type": "code",
      "execution_count": null,
      "id": "b4c29c5d",
      "metadata": {
        "id": "b4c29c5d"
      },
      "outputs": [],
      "source": [
        "yumi = models.URDF.YuMi()"
      ]
    },
    {
      "cell_type": "code",
      "execution_count": null,
      "id": "c8801741",
      "metadata": {
        "id": "c8801741"
      },
      "outputs": [],
      "source": [
        "yumi.showgraph(ets=\"brief\")"
      ]
    },
    {
      "cell_type": "code",
      "execution_count": null,
      "id": "eda4f296",
      "metadata": {
        "id": "eda4f296"
      },
      "outputs": [],
      "source": [
        "yumi.grippers"
      ]
    },
    {
      "cell_type": "code",
      "execution_count": null,
      "id": "76d53924",
      "metadata": {
        "id": "76d53924"
      },
      "outputs": [],
      "source": [
        "yumi.plot(yumi.q1);"
      ]
    },
    {
      "cell_type": "code",
      "execution_count": null,
      "id": "fc0faaa8",
      "metadata": {
        "lines_to_next_cell": 2,
        "id": "fc0faaa8"
      },
      "outputs": [],
      "source": [
        "models.list(type=\"URDF\")"
      ]
    },
    {
      "cell_type": "code",
      "execution_count": null,
      "id": "10568365",
      "metadata": {
        "id": "10568365"
      },
      "outputs": [],
      "source": [
        "pr2 = models.URDF.PR2()"
      ]
    },
    {
      "cell_type": "code",
      "execution_count": null,
      "id": "94292f5a",
      "metadata": {
        "id": "94292f5a"
      },
      "outputs": [],
      "source": [
        "pr2.showgraph()"
      ]
    },
    {
      "cell_type": "code",
      "execution_count": null,
      "id": "66d2070c",
      "metadata": {
        "id": "66d2070c"
      },
      "outputs": [],
      "source": [
        "pr2.plot(pr2.qz)"
      ]
    },
    {
      "cell_type": "markdown",
      "id": "66a0fc01",
      "metadata": {
        "id": "66a0fc01"
      },
      "source": [
        "## 7.1.5 Denavit-Hartenberg Parameters\n"
      ]
    },
    {
      "cell_type": "code",
      "execution_count": null,
      "id": "274dd13b",
      "metadata": {
        "id": "274dd13b"
      },
      "outputs": [],
      "source": [
        "link = RevoluteDH(a=1)"
      ]
    },
    {
      "cell_type": "code",
      "execution_count": null,
      "id": "ad7b5971",
      "metadata": {
        "id": "ad7b5971"
      },
      "outputs": [],
      "source": [
        "link.A(0.5)"
      ]
    },
    {
      "cell_type": "code",
      "execution_count": null,
      "id": "673cd40c",
      "metadata": {
        "lines_to_next_cell": 2,
        "id": "673cd40c"
      },
      "outputs": [],
      "source": [
        "models.list(type=\"DH\")"
      ]
    },
    {
      "cell_type": "code",
      "execution_count": null,
      "id": "716a54e5",
      "metadata": {
        "id": "716a54e5"
      },
      "outputs": [],
      "source": [
        "irb140 = models.DH.IRB140();"
      ]
    },
    {
      "cell_type": "code",
      "execution_count": null,
      "id": "c025ffb4",
      "metadata": {
        "id": "c025ffb4"
      },
      "outputs": [],
      "source": [
        "irb140"
      ]
    },
    {
      "cell_type": "code",
      "execution_count": null,
      "id": "05ac6213",
      "metadata": {
        "id": "05ac6213"
      },
      "outputs": [],
      "source": [
        "irb140._tool"
      ]
    },
    {
      "cell_type": "code",
      "execution_count": null,
      "id": "9ae3fff4",
      "metadata": {
        "id": "9ae3fff4"
      },
      "outputs": [],
      "source": [
        "irb140.fkine(irb140.qr).printline(\"rpy/xyz\")"
      ]
    },
    {
      "cell_type": "code",
      "execution_count": null,
      "id": "ab3e6c60",
      "metadata": {
        "id": "ab3e6c60"
      },
      "outputs": [],
      "source": [
        "irb140.plot(irb140.qr);"
      ]
    },
    {
      "cell_type": "code",
      "execution_count": null,
      "id": "dfb184db",
      "metadata": {
        "id": "dfb184db"
      },
      "outputs": [],
      "source": [
        "# irb140.teach()"
      ]
    },
    {
      "cell_type": "code",
      "execution_count": null,
      "id": "ab41bdfa",
      "metadata": {
        "id": "ab41bdfa"
      },
      "outputs": [],
      "source": [
        "irb140.ets()"
      ]
    },
    {
      "cell_type": "markdown",
      "id": "940e2659",
      "metadata": {
        "id": "940e2659"
      },
      "source": [
        "# 7.2 Inverse Kinematics\n"
      ]
    },
    {
      "cell_type": "markdown",
      "id": "61113591",
      "metadata": {
        "id": "61113591"
      },
      "source": [
        "## 7.2.1 2-Dimensional (Planar) Robotic Arms\n"
      ]
    },
    {
      "cell_type": "markdown",
      "id": "3a28aced",
      "metadata": {
        "id": "3a28aced"
      },
      "source": [
        "### 7.2.1.1 Closed-Form Solution\n"
      ]
    },
    {
      "cell_type": "code",
      "execution_count": null,
      "id": "48b379cd",
      "metadata": {
        "id": "48b379cd"
      },
      "outputs": [],
      "source": [
        "import sympy\n",
        "a1, a2 = sympy.symbols(\"a1 a2\")\n",
        "e = ET2.R() * ET2.tx(a1) * ET2.R() * ET2.tx(a2);"
      ]
    },
    {
      "cell_type": "code",
      "execution_count": null,
      "id": "b8dac101",
      "metadata": {
        "id": "b8dac101"
      },
      "outputs": [],
      "source": [
        "q0, q1 = sympy.symbols(\"q0 q1\")"
      ]
    },
    {
      "cell_type": "code",
      "execution_count": null,
      "id": "dafa6650",
      "metadata": {
        "id": "dafa6650"
      },
      "outputs": [],
      "source": [
        "TE = e.fkine([q0, q1])\n",
        "x_fk, y_fk = TE.t;"
      ]
    },
    {
      "cell_type": "code",
      "execution_count": null,
      "id": "aeed4709",
      "metadata": {
        "id": "aeed4709"
      },
      "outputs": [],
      "source": [
        "x, y = sympy.symbols(\"x y\")"
      ]
    },
    {
      "cell_type": "code",
      "execution_count": null,
      "id": "6a678fbe",
      "metadata": {
        "id": "6a678fbe"
      },
      "outputs": [],
      "source": [
        "eq1 = (x_fk**2 + y_fk**2 - x**2 - y**2).trigsimp()"
      ]
    },
    {
      "cell_type": "code",
      "execution_count": null,
      "id": "d1a658a7",
      "metadata": {
        "id": "d1a658a7"
      },
      "outputs": [],
      "source": [
        "q1_sol = sympy.solve(eq1, q1)\n",
        "eq0 = tuple(map(sympy.expand_trig, [x_fk - x, y_fk - y]))\n",
        "q0_sol = sympy.solve(eq0, [sympy.sin(q0), sympy.cos(q0)]);"
      ]
    },
    {
      "cell_type": "code",
      "execution_count": null,
      "id": "a0c70d23",
      "metadata": {
        "id": "a0c70d23"
      },
      "outputs": [],
      "source": [
        "sympy.atan2(q0_sol[sympy.sin(q0)], q0_sol[sympy.cos(q0)]).simplify()"
      ]
    },
    {
      "cell_type": "markdown",
      "id": "7cb6af43",
      "metadata": {
        "id": "7cb6af43"
      },
      "source": [
        "### 7.2.1.2 Numerical Solution\n"
      ]
    },
    {
      "cell_type": "code",
      "execution_count": null,
      "id": "0d1cdc16",
      "metadata": {
        "id": "0d1cdc16"
      },
      "outputs": [],
      "source": [
        "e = ET2.R() * ET2.tx(1) * ET2.R() * ET2.tx(1);"
      ]
    },
    {
      "cell_type": "code",
      "execution_count": null,
      "id": "4e9c1556",
      "metadata": {
        "id": "4e9c1556"
      },
      "outputs": [],
      "source": [
        "pstar = np.array([0.6, 0.7]);  # desired position\n",
        "E = lambda q: np.linalg.norm(e.fkine(q).t - pstar);"
      ]
    },
    {
      "cell_type": "code",
      "execution_count": null,
      "id": "866fd358",
      "metadata": {
        "id": "866fd358"
      },
      "outputs": [],
      "source": [
        "sol = optimize.minimize(E, [0, 0]);"
      ]
    },
    {
      "cell_type": "code",
      "execution_count": null,
      "id": "4da1d1a0",
      "metadata": {
        "id": "4da1d1a0"
      },
      "outputs": [],
      "source": [
        "sol.x"
      ]
    },
    {
      "cell_type": "code",
      "execution_count": null,
      "id": "44710a27",
      "metadata": {
        "id": "44710a27"
      },
      "outputs": [],
      "source": [
        "e.fkine(sol.x).printline()"
      ]
    },
    {
      "cell_type": "markdown",
      "id": "8b920216",
      "metadata": {
        "id": "8b920216"
      },
      "source": [
        "## 7.2.2 3-Dimensional Robotic Arms\n"
      ]
    },
    {
      "cell_type": "markdown",
      "id": "7832e032",
      "metadata": {
        "id": "7832e032"
      },
      "source": [
        "### 7.2.2.1 Closed-Form Solution\n"
      ]
    },
    {
      "cell_type": "code",
      "execution_count": null,
      "id": "54672446",
      "metadata": {
        "id": "54672446"
      },
      "outputs": [],
      "source": [
        "puma = models.DH.Puma560();"
      ]
    },
    {
      "cell_type": "code",
      "execution_count": null,
      "id": "bda6dff0",
      "metadata": {
        "id": "bda6dff0"
      },
      "outputs": [],
      "source": [
        "puma.qn"
      ]
    },
    {
      "cell_type": "code",
      "execution_count": null,
      "id": "37a85873",
      "metadata": {
        "id": "37a85873"
      },
      "outputs": [],
      "source": [
        "T = puma.fkine(puma.qn);\n",
        "T.printline()"
      ]
    },
    {
      "cell_type": "code",
      "execution_count": null,
      "id": "74eb164d",
      "metadata": {
        "id": "74eb164d"
      },
      "outputs": [],
      "source": [
        "sol = puma.ikine_a(T)"
      ]
    },
    {
      "cell_type": "code",
      "execution_count": null,
      "id": "c281ec59",
      "metadata": {
        "id": "c281ec59"
      },
      "outputs": [],
      "source": [
        "sol.q"
      ]
    },
    {
      "cell_type": "code",
      "execution_count": null,
      "id": "977cc543",
      "metadata": {
        "id": "977cc543"
      },
      "outputs": [],
      "source": [
        "puma.fkine(sol.q).printline()"
      ]
    },
    {
      "cell_type": "code",
      "execution_count": null,
      "id": "bbf904fb",
      "metadata": {
        "id": "bbf904fb"
      },
      "outputs": [],
      "source": [
        "sol = puma.ikine_a(T, \"r\");\n",
        "sol.q"
      ]
    },
    {
      "cell_type": "code",
      "execution_count": null,
      "id": "c3652d69",
      "metadata": {
        "id": "c3652d69"
      },
      "outputs": [],
      "source": [
        "puma.ikine_a(SE3.Tx(3))"
      ]
    },
    {
      "cell_type": "code",
      "execution_count": null,
      "id": "fefcbbd6",
      "metadata": {
        "id": "fefcbbd6"
      },
      "outputs": [],
      "source": [
        "q = [0, pi/4, pi, 0.1, 0, 0.2];"
      ]
    },
    {
      "cell_type": "code",
      "execution_count": null,
      "id": "2e65e4a1",
      "metadata": {
        "id": "2e65e4a1"
      },
      "outputs": [],
      "source": [
        "puma.ikine_a(puma.fkine(q), \"ru\").q"
      ]
    },
    {
      "cell_type": "markdown",
      "id": "f3186d9a",
      "metadata": {
        "id": "f3186d9a"
      },
      "source": [
        "### 7.2.2.2 Numerical Solution\n"
      ]
    },
    {
      "cell_type": "code",
      "execution_count": null,
      "id": "7b9bcd58",
      "metadata": {
        "id": "7b9bcd58"
      },
      "outputs": [],
      "source": [
        "T = puma.fkine(puma.qn);\n",
        "T.printline(\"rpy/xyz\")\n",
        "sol = puma.ikine_LM(T)"
      ]
    },
    {
      "cell_type": "code",
      "execution_count": null,
      "id": "38fcf064",
      "metadata": {
        "id": "38fcf064"
      },
      "outputs": [],
      "source": [
        "puma.qn"
      ]
    },
    {
      "cell_type": "code",
      "execution_count": null,
      "id": "6b29bcb8",
      "metadata": {
        "id": "6b29bcb8"
      },
      "outputs": [],
      "source": [
        "puma.fkine(sol.q).printline(\"rpy/xyz\")"
      ]
    },
    {
      "cell_type": "code",
      "execution_count": null,
      "id": "246f422c",
      "metadata": {
        "id": "246f422c"
      },
      "outputs": [],
      "source": [
        "puma.plot(sol.q);"
      ]
    },
    {
      "cell_type": "code",
      "execution_count": null,
      "id": "fab2daa8",
      "metadata": {
        "id": "fab2daa8"
      },
      "outputs": [],
      "source": [
        "puma.ikine_LM(T, q0=[0, 0, 3, 0, 0, 0])"
      ]
    },
    {
      "cell_type": "markdown",
      "id": "0a5ff963",
      "metadata": {
        "id": "0a5ff963"
      },
      "source": [
        "## 7.2.3 Underactuated Manipulator\n"
      ]
    },
    {
      "cell_type": "code",
      "execution_count": null,
      "id": "472fb6de",
      "metadata": {
        "id": "472fb6de"
      },
      "outputs": [],
      "source": [
        "cobra = models.DH.Cobra600()"
      ]
    },
    {
      "cell_type": "code",
      "execution_count": null,
      "id": "9391604f",
      "metadata": {
        "id": "9391604f"
      },
      "outputs": [],
      "source": [
        "TE = SE3.Trans(0.4, -0.3, 0.2) * SE3.RPY(np.deg2rad([30, 0, 170]), order=\"xyz\");"
      ]
    },
    {
      "cell_type": "code",
      "execution_count": null,
      "id": "76a4293c",
      "metadata": {
        "id": "76a4293c"
      },
      "outputs": [],
      "source": [
        "sol = cobra.ikine_LM(TE)"
      ]
    },
    {
      "cell_type": "code",
      "execution_count": null,
      "id": "f04da090",
      "metadata": {
        "id": "f04da090"
      },
      "outputs": [],
      "source": [
        "sol = cobra.ikine_LM(TE, mask=[1, 1, 1, 0, 0, 1])"
      ]
    },
    {
      "cell_type": "code",
      "execution_count": null,
      "id": "35fccf74",
      "metadata": {
        "id": "35fccf74"
      },
      "outputs": [],
      "source": [
        "cobra.fkine(sol.q).printline(\"rpy/xyz\")"
      ]
    },
    {
      "cell_type": "code",
      "execution_count": null,
      "id": "a95598e0",
      "metadata": {
        "id": "a95598e0"
      },
      "outputs": [],
      "source": [
        "TE.plot(color=\"r\");\n",
        "cobra.fkine(sol.q).plot(color=\"b\");\n"
      ]
    },
    {
      "cell_type": "markdown",
      "id": "b1026eeb",
      "metadata": {
        "id": "b1026eeb"
      },
      "source": [
        "## 7.2.4 Overactuated (Redundant) Manipulator\n"
      ]
    },
    {
      "cell_type": "code",
      "execution_count": null,
      "id": "40e220cc",
      "metadata": {
        "id": "40e220cc"
      },
      "outputs": [],
      "source": [
        "panda = models.ETS.Panda();"
      ]
    },
    {
      "cell_type": "code",
      "execution_count": null,
      "id": "2cc1b65b",
      "metadata": {
        "id": "2cc1b65b"
      },
      "outputs": [],
      "source": [
        "TE = SE3.Trans(0.7, 0.2, 0.1) * SE3.OA((0, 1, 0), (0, 0, -1));"
      ]
    },
    {
      "cell_type": "code",
      "execution_count": null,
      "id": "25f1cb25",
      "metadata": {
        "id": "25f1cb25"
      },
      "outputs": [],
      "source": [
        "sol = panda.ikine_LM(TE)"
      ]
    },
    {
      "cell_type": "code",
      "execution_count": null,
      "id": "b8088ed2",
      "metadata": {
        "id": "b8088ed2"
      },
      "outputs": [],
      "source": [
        "panda.fkine(sol.q).printline(\"angvec\")"
      ]
    },
    {
      "cell_type": "markdown",
      "id": "10519034",
      "metadata": {
        "id": "10519034"
      },
      "source": [
        "# 7.3 Trajectories\n"
      ]
    },
    {
      "cell_type": "code",
      "execution_count": null,
      "id": "c1a3b44b",
      "metadata": {
        "id": "c1a3b44b"
      },
      "outputs": [],
      "source": [
        "puma = models.DH.Puma560();"
      ]
    },
    {
      "cell_type": "markdown",
      "id": "ba31a717",
      "metadata": {
        "id": "ba31a717"
      },
      "source": [
        "## 7.3.1 Joint-Space Motion\n"
      ]
    },
    {
      "cell_type": "code",
      "execution_count": null,
      "id": "0a220410",
      "metadata": {
        "id": "0a220410"
      },
      "outputs": [],
      "source": [
        "TE1 = SE3.Trans(0.4, -0.2, 0) * SE3.Rx(3);\n",
        "TE2 = SE3.Trans(0.4, 0.2, 0) * SE3.Rx(1);"
      ]
    },
    {
      "cell_type": "code",
      "execution_count": null,
      "id": "1ebd5ab0",
      "metadata": {
        "id": "1ebd5ab0"
      },
      "outputs": [],
      "source": [
        "sol1 = puma.ikine_a(TE1, \"ru\");\n",
        "sol2 = puma.ikine_a(TE2, \"ru\");"
      ]
    },
    {
      "cell_type": "code",
      "execution_count": null,
      "id": "129c890b",
      "metadata": {
        "id": "129c890b"
      },
      "outputs": [],
      "source": [
        "t = np.arange(0, 2, 0.02);"
      ]
    },
    {
      "cell_type": "code",
      "execution_count": null,
      "id": "03f70d9e",
      "metadata": {
        "id": "03f70d9e"
      },
      "outputs": [],
      "source": [
        "traj = mtraj(quintic, sol1.q, sol2.q, t);"
      ]
    },
    {
      "cell_type": "code",
      "execution_count": null,
      "id": "15b83e3a",
      "metadata": {
        "id": "15b83e3a"
      },
      "outputs": [],
      "source": [
        "traj = mtraj(trapezoidal, sol1.q, sol2.q, t);"
      ]
    },
    {
      "cell_type": "code",
      "execution_count": null,
      "id": "c83c52e7",
      "metadata": {
        "id": "c83c52e7"
      },
      "outputs": [],
      "source": [
        "traj.q.shape"
      ]
    },
    {
      "cell_type": "code",
      "execution_count": null,
      "id": "ff4ae368",
      "metadata": {
        "id": "ff4ae368"
      },
      "outputs": [],
      "source": [
        "traj = jtraj(sol1.q, sol2.q, t)"
      ]
    },
    {
      "cell_type": "code",
      "execution_count": null,
      "id": "ff2b4fa0",
      "metadata": {
        "id": "ff2b4fa0"
      },
      "outputs": [],
      "source": [
        "puma.plot(traj.q);  # this animation won't display in Jupyter"
      ]
    },
    {
      "cell_type": "code",
      "execution_count": null,
      "id": "a9ca35cf",
      "metadata": {
        "id": "a9ca35cf"
      },
      "outputs": [],
      "source": [
        "xplot(t, traj.q);"
      ]
    },
    {
      "cell_type": "code",
      "execution_count": null,
      "id": "b2265f9b",
      "metadata": {
        "id": "b2265f9b"
      },
      "outputs": [],
      "source": [
        "T = puma.fkine(traj.q);\n",
        "len(T)"
      ]
    },
    {
      "cell_type": "code",
      "execution_count": null,
      "id": "be3cba5e",
      "metadata": {
        "id": "be3cba5e"
      },
      "outputs": [],
      "source": [
        "p = T.t;\n",
        "p.shape"
      ]
    },
    {
      "cell_type": "code",
      "execution_count": null,
      "id": "16f8fa7d",
      "metadata": {
        "id": "16f8fa7d"
      },
      "outputs": [],
      "source": [
        "xplot(t, T.t, labels=\"x y z\");"
      ]
    },
    {
      "cell_type": "code",
      "execution_count": null,
      "id": "2601b340",
      "metadata": {
        "id": "2601b340"
      },
      "outputs": [],
      "source": [
        "xplot(t, T.rpy(\"xyz\"), labels=\"roll pitch yaw\");"
      ]
    },
    {
      "cell_type": "markdown",
      "id": "b810878b",
      "metadata": {
        "id": "b810878b"
      },
      "source": [
        "## 7.3.2 Cartesian Motion\n"
      ]
    },
    {
      "cell_type": "code",
      "execution_count": null,
      "id": "b0b98808",
      "metadata": {
        "id": "b0b98808"
      },
      "outputs": [],
      "source": [
        "Ts = ctraj(TE1, TE2, t);"
      ]
    },
    {
      "cell_type": "code",
      "execution_count": null,
      "id": "a106e5df",
      "metadata": {
        "id": "a106e5df"
      },
      "outputs": [],
      "source": [
        "xplot(t, Ts.t, labels=\"x y z\");"
      ]
    },
    {
      "cell_type": "code",
      "execution_count": null,
      "id": "cb84821f",
      "metadata": {
        "id": "cb84821f"
      },
      "outputs": [],
      "source": [
        "xplot(t, Ts.rpy(\"xyz\"), labels=\"roll pitch yaw\");"
      ]
    },
    {
      "cell_type": "code",
      "execution_count": null,
      "id": "4bb951fe",
      "metadata": {
        "id": "4bb951fe"
      },
      "outputs": [],
      "source": [
        "qc = puma.ikine_a(Ts);\n",
        "qc.q.shape"
      ]
    },
    {
      "cell_type": "markdown",
      "id": "9bde3ce3",
      "metadata": {
        "id": "9bde3ce3"
      },
      "source": [
        "## 7.3.3 Kinematics in a block diagram\n"
      ]
    },
    {
      "cell_type": "code",
      "execution_count": null,
      "id": "b41fce25",
      "metadata": {
        "id": "b41fce25"
      },
      "outputs": [],
      "source": [
        "if COLAB:\n",
        "  %run -m jointspace -H -g  # no graphics\n",
        "else:\n",
        "  run_shell(\"jointspace\")"
      ]
    },
    {
      "cell_type": "markdown",
      "id": "f4e02126",
      "metadata": {
        "id": "f4e02126"
      },
      "source": [
        "## 7.3.4 Motion through a Singularity\n"
      ]
    },
    {
      "cell_type": "code",
      "execution_count": null,
      "id": "3027a20d",
      "metadata": {
        "id": "3027a20d"
      },
      "outputs": [],
      "source": [
        "TE1 = SE3.Trans(0.5, -0.3, 1.12) * SE3.OA((0, 1, 0), (1, 0, 0));\n",
        "TE2 = SE3.Trans(0.5, 0.3, 1.12) * SE3.OA((0, 1, 0), (1, 0, 0));"
      ]
    },
    {
      "cell_type": "code",
      "execution_count": null,
      "id": "bcc9ef2e",
      "metadata": {
        "id": "bcc9ef2e"
      },
      "outputs": [],
      "source": [
        "Ts = ctraj(TE1, TE2, t);"
      ]
    },
    {
      "cell_type": "code",
      "execution_count": null,
      "id": "10e6a4f3",
      "metadata": {
        "id": "10e6a4f3"
      },
      "outputs": [],
      "source": [
        "sol = puma.ikine_a(Ts, \"lu\");"
      ]
    },
    {
      "cell_type": "code",
      "execution_count": null,
      "id": "dde4c734",
      "metadata": {
        "id": "dde4c734"
      },
      "outputs": [],
      "source": [
        "xplot(t, sol.q, unwrap=True);"
      ]
    },
    {
      "cell_type": "code",
      "execution_count": null,
      "id": "6cf91693",
      "metadata": {
        "id": "6cf91693"
      },
      "outputs": [],
      "source": [
        "m = puma.manipulability(sol.q);"
      ]
    },
    {
      "cell_type": "markdown",
      "id": "b7bde5fd",
      "metadata": {
        "id": "b7bde5fd"
      },
      "source": [
        "## 7.3.5 Configuration Change\n"
      ]
    },
    {
      "cell_type": "code",
      "execution_count": null,
      "id": "e2ab8b73",
      "metadata": {
        "id": "e2ab8b73"
      },
      "outputs": [],
      "source": [
        "TE = SE3.Trans(0.4, 0.2, 0.6) * SE3.Rx(pi);"
      ]
    },
    {
      "cell_type": "code",
      "execution_count": null,
      "id": "0ca16d3d",
      "metadata": {
        "id": "0ca16d3d"
      },
      "outputs": [],
      "source": [
        "sol_r = puma.ikine_a(TE, \"ru\");\n",
        "sol_l = puma.ikine_a(TE, \"lu\");"
      ]
    },
    {
      "cell_type": "code",
      "execution_count": null,
      "id": "f93cc861",
      "metadata": {
        "id": "f93cc861"
      },
      "outputs": [],
      "source": [
        "traj = jtraj(sol_r.q, sol_l.q, t);"
      ]
    },
    {
      "cell_type": "code",
      "execution_count": null,
      "id": "4c62165b",
      "metadata": {
        "id": "4c62165b"
      },
      "outputs": [],
      "source": [
        "puma.plot(traj.q);"
      ]
    },
    {
      "cell_type": "markdown",
      "id": "19e22f49",
      "metadata": {
        "id": "19e22f49"
      },
      "source": [
        "# 7.4 Applications\n"
      ]
    },
    {
      "cell_type": "markdown",
      "id": "45471d0d",
      "metadata": {
        "id": "45471d0d"
      },
      "source": [
        "## 7.4.1 Writing on a surface\n"
      ]
    },
    {
      "cell_type": "code",
      "execution_count": null,
      "id": "1c589266",
      "metadata": {
        "id": "1c589266"
      },
      "outputs": [],
      "source": [
        "font = rtb_load_jsonfile(\"data/hershey.json\");"
      ]
    },
    {
      "cell_type": "code",
      "execution_count": null,
      "id": "b39bb6ab",
      "metadata": {
        "id": "b39bb6ab"
      },
      "outputs": [],
      "source": [
        "letter = font[\"B\"]"
      ]
    },
    {
      "cell_type": "code",
      "execution_count": null,
      "id": "c48a98c8",
      "metadata": {
        "id": "c48a98c8"
      },
      "outputs": [],
      "source": [
        "lift = 0.1; # height to raise the pen\n",
        "scale = 0.25;\n",
        "via = np.empty((0, 3));\n",
        "for stroke in letter[\"strokes\"]:\n",
        "  xyz = np.array(stroke) * scale # convert stroke to nx2 array\n",
        "  xyz = np.pad(xyz, ((0, 0), (0, 1))) # add third column, z=0\n",
        "  via = np.vstack((via, xyz))  # append rows to via points\n",
        "  via = np.vstack((via, np.hstack([xyz[-1,:2], lift]))) # lift pen"
      ]
    },
    {
      "cell_type": "code",
      "execution_count": null,
      "id": "4ceb9802",
      "metadata": {
        "id": "4ceb9802"
      },
      "outputs": [],
      "source": [
        "xyz_traj = mstraj(via, qdmax=[0.5, 0.5, 0.5], q0=[0, 0, lift],\n",
        "                  dt=0.02, tacc=0.2).q;"
      ]
    },
    {
      "cell_type": "code",
      "execution_count": null,
      "id": "ab33b5ec",
      "metadata": {
        "id": "ab33b5ec"
      },
      "outputs": [],
      "source": [
        "len(xyz_traj)"
      ]
    },
    {
      "cell_type": "code",
      "execution_count": null,
      "id": "f1db9b26",
      "metadata": {
        "id": "f1db9b26"
      },
      "outputs": [],
      "source": [
        "len(xyz_traj) * 0.02"
      ]
    },
    {
      "cell_type": "code",
      "execution_count": null,
      "id": "35a4a56f",
      "metadata": {
        "id": "35a4a56f"
      },
      "outputs": [],
      "source": [
        "fig = plt.figure(); ax = fig.add_subplot(111, projection=\"3d\");\n",
        "plt.plot(xyz_traj[:,0], xyz_traj[:,1], xyz_traj[:,2]);"
      ]
    },
    {
      "cell_type": "code",
      "execution_count": null,
      "id": "aef54f1c",
      "metadata": {
        "id": "aef54f1c"
      },
      "outputs": [],
      "source": [
        "T_pen = SE3.Trans(0.6, 0, 0.7) * SE3.Trans(xyz_traj) * SE3.OA( [0, 1, 0], [0, 0, -1]);"
      ]
    },
    {
      "cell_type": "code",
      "execution_count": null,
      "id": "78788557",
      "metadata": {
        "id": "78788557"
      },
      "outputs": [],
      "source": [
        "puma = models.DH.Puma560();\n",
        "sol = puma.ikine_a(T_pen, \"lu\");"
      ]
    },
    {
      "cell_type": "code",
      "execution_count": null,
      "id": "a39943e9",
      "metadata": {
        "id": "a39943e9"
      },
      "outputs": [],
      "source": [
        "puma.plot(sol.q);"
      ]
    },
    {
      "cell_type": "code",
      "execution_count": null,
      "id": "4c35cb55",
      "metadata": {
        "id": "4c35cb55"
      },
      "outputs": [],
      "source": [
        "# %run -m writing"
      ]
    },
    {
      "cell_type": "markdown",
      "id": "b4883f0e",
      "metadata": {
        "id": "b4883f0e"
      },
      "source": [
        "## 7.4.2 A 4-Legged Walking robot\n"
      ]
    },
    {
      "cell_type": "code",
      "execution_count": null,
      "id": "a7fdc4f5",
      "metadata": {
        "id": "a7fdc4f5"
      },
      "outputs": [],
      "source": [
        "mm = 0.001;  # millimeters\n",
        "L1 = 100 * mm;\n",
        "L2 = 100 * mm;"
      ]
    },
    {
      "cell_type": "code",
      "execution_count": null,
      "id": "ef4f6cf4",
      "metadata": {
        "id": "ef4f6cf4"
      },
      "outputs": [],
      "source": [
        "leg = ERobot(ET.Rz() * ET.Rx() * ET.ty(-L1) * ET.Rx() * ET.tz(-L2))"
      ]
    },
    {
      "cell_type": "code",
      "execution_count": null,
      "id": "4fc44b44",
      "metadata": {
        "id": "4fc44b44"
      },
      "outputs": [],
      "source": [
        "leg.fkine([0,0,0]).t"
      ]
    },
    {
      "cell_type": "code",
      "execution_count": null,
      "id": "3b9cdb30",
      "metadata": {
        "id": "3b9cdb30"
      },
      "outputs": [],
      "source": [
        "leg.plot([0, 0, 0]);"
      ]
    },
    {
      "cell_type": "markdown",
      "id": "6f3eb52a",
      "metadata": {
        "id": "6f3eb52a"
      },
      "source": [
        "### 7.4.2.1 Motion of One Leg\n"
      ]
    },
    {
      "cell_type": "code",
      "execution_count": null,
      "id": "53248532",
      "metadata": {
        "id": "53248532"
      },
      "outputs": [],
      "source": [
        "xf = 50; xb = -xf;  y = -50; zu = -20; zd = -50;\n",
        "via = np.array([\n",
        "  [xf, y, zd],\n",
        "  [xb, y, zd],\n",
        "  [xb, y, zu],\n",
        "  [xf, y, zu],\n",
        "  [xf, y, zd]]) * mm;"
      ]
    },
    {
      "cell_type": "code",
      "execution_count": null,
      "id": "432d228f",
      "metadata": {
        "id": "432d228f"
      },
      "outputs": [],
      "source": [
        "x = mstraj(via, tsegment=[3, 0.25, 0.5, 0.25], dt=0.01, tacc=0.1).q"
      ]
    },
    {
      "cell_type": "code",
      "execution_count": null,
      "id": "dde9d2f2",
      "metadata": {
        "id": "dde9d2f2"
      },
      "outputs": [],
      "source": [
        "sol = leg.ikine_LM(SE3.Trans(x), mask=[1, 1, 1, 0, 0, 0]);"
      ]
    },
    {
      "cell_type": "code",
      "execution_count": null,
      "id": "919a3de6",
      "metadata": {
        "id": "919a3de6"
      },
      "outputs": [],
      "source": [
        "leg.plot(sol.q);"
      ]
    },
    {
      "cell_type": "markdown",
      "id": "09f2c768",
      "metadata": {
        "id": "09f2c768"
      },
      "source": [
        "### 7.4.2.2 Motion of Four Legs\n"
      ]
    },
    {
      "cell_type": "code",
      "execution_count": null,
      "id": "1081144d",
      "metadata": {
        "id": "1081144d"
      },
      "outputs": [],
      "source": [
        "W = 100 * mm; L = 200 * mm;"
      ]
    },
    {
      "cell_type": "code",
      "execution_count": null,
      "id": "de0ac592",
      "metadata": {
        "id": "de0ac592"
      },
      "outputs": [],
      "source": [
        "Tflip = SE3.Rz(pi);\n",
        "legs = [\n",
        "  ERobot(leg, name=\"leg0\", base=SE3.Trans( L/2,  W/2, 0)),\n",
        "  ERobot(leg, name=\"leg1\", base=SE3.Trans(-L/2,  W/2, 0)),\n",
        "  ERobot(leg, name=\"leg2\", base=SE3.Trans( L/2, -W/2, 0) * Tflip),\n",
        "  ERobot(leg, name=\"leg3\", base=SE3.Trans(-L/2, -W/2, 0) * Tflip)];"
      ]
    },
    {
      "cell_type": "code",
      "execution_count": null,
      "id": "b1ac1a7c",
      "metadata": {
        "lines_to_next_cell": 1,
        "id": "b1ac1a7c"
      },
      "outputs": [],
      "source": [
        "for i in range(4000):\n",
        "  legs[0].q = gait(qcycle, i, 0, False)\n",
        "  legs[1].q = gait(qcycle, i, 100, False)\n",
        "  legs[2].q = gait(qcycle, i, 200, True)\n",
        "  legs[3].q = gait(qcycle, i, 300, True)\n",
        "env.step(dt=0.02)  # render the graphics"
      ]
    },
    {
      "cell_type": "code",
      "execution_count": null,
      "id": "944cbf27",
      "metadata": {
        "lines_to_next_cell": 1,
        "id": "944cbf27"
      },
      "outputs": [],
      "source": [
        "def gait(cycle, k, phi, flip):\n",
        "  k = (k + phi) % cycle.shape[0]  # modulo addition\n",
        "  q = cycle[k, :]\n",
        "  if flip:\n",
        "    q[0] = -q[0]  # for right-side legs\n",
        "  return q"
      ]
    },
    {
      "cell_type": "code",
      "execution_count": null,
      "id": "16fb62b0",
      "metadata": {
        "id": "16fb62b0"
      },
      "outputs": [],
      "source": [
        "%run -m walking"
      ]
    },
    {
      "cell_type": "markdown",
      "id": "cd698c8a",
      "metadata": {
        "id": "cd698c8a"
      },
      "source": [
        "# 7.5 Advanced Topics\n"
      ]
    },
    {
      "cell_type": "markdown",
      "id": "7ab671d6",
      "metadata": {
        "id": "7ab671d6"
      },
      "source": [
        "## 7.5.2 Creating the Kinematic Model for a Robot\n"
      ]
    },
    {
      "cell_type": "code",
      "execution_count": null,
      "id": "ea42256b",
      "metadata": {
        "id": "ea42256b"
      },
      "outputs": [],
      "source": [
        "L1 = 0.672; L2 = -0.2337; L3 = 0.4318;\n",
        "L4 = 0.0203; L5 = 0.0837; L6 = 0.4318;"
      ]
    },
    {
      "cell_type": "code",
      "execution_count": null,
      "id": "e938cfed",
      "metadata": {
        "id": "e938cfed"
      },
      "outputs": [],
      "source": [
        "e = ET.tz(L1) * ET.Rz() * ET.ty(L2) * ET.Ry() \\\n",
        "   * ET.tz(L3) * ET.tx(L4) * ET.ty(L5) * ET.Ry() \\\n",
        "   * ET.tz(L6) * ET.Rz() * ET.Ry() * ET.Rz();"
      ]
    },
    {
      "cell_type": "code",
      "execution_count": null,
      "id": "7c82b8d6",
      "metadata": {
        "id": "7c82b8d6"
      },
      "outputs": [],
      "source": [
        "robot = ERobot(e)"
      ]
    },
    {
      "cell_type": "markdown",
      "id": "5c7ba783",
      "metadata": {
        "id": "5c7ba783"
      },
      "source": [
        "## 7.5.3 Modified Denavit-Hartenberg Parameters\n"
      ]
    },
    {
      "cell_type": "code",
      "execution_count": null,
      "id": "912c00b0",
      "metadata": {
        "id": "912c00b0"
      },
      "outputs": [],
      "source": [
        "L1 = RevoluteMDH(d=1)"
      ]
    },
    {
      "cell_type": "markdown",
      "id": "462c99d5",
      "metadata": {
        "id": "462c99d5"
      },
      "source": [
        "## 7.5.4 Products of exponentials\n"
      ]
    },
    {
      "cell_type": "code",
      "execution_count": null,
      "id": "67077079",
      "metadata": {
        "id": "67077079"
      },
      "outputs": [],
      "source": [
        "a1 = 1; a2 = 1;\n",
        "TE0 = SE2(a1 + a2, 0, 0);"
      ]
    },
    {
      "cell_type": "code",
      "execution_count": null,
      "id": "55fb33f2",
      "metadata": {
        "id": "55fb33f2"
      },
      "outputs": [],
      "source": [
        "S0 = Twist2.UnitRevolute([0, 0]);\n",
        "S1 = Twist2.UnitRevolute([a1, 0]);"
      ]
    },
    {
      "cell_type": "code",
      "execution_count": null,
      "id": "1bf5370d",
      "metadata": {
        "id": "1bf5370d"
      },
      "outputs": [],
      "source": [
        "TE = S0.exp(np.deg2rad(30)) * S1.exp(np.deg2rad(40)) * TE0"
      ]
    },
    {
      "cell_type": "code",
      "execution_count": null,
      "id": "acc40bed",
      "metadata": {
        "id": "acc40bed"
      },
      "outputs": [],
      "source": [
        "irb140 = models.DH.IRB140();\n",
        "S, TE0 = irb140.twists()\n",
        "S"
      ]
    },
    {
      "cell_type": "code",
      "execution_count": null,
      "id": "5456e9a1",
      "metadata": {
        "id": "5456e9a1"
      },
      "outputs": [],
      "source": [
        "T = S.exp(irb140.qr).prod() * TE0"
      ]
    },
    {
      "cell_type": "code",
      "execution_count": null,
      "id": "b7236820",
      "metadata": {
        "id": "b7236820"
      },
      "outputs": [],
      "source": [
        "irb140.plot(irb140.qz);"
      ]
    },
    {
      "cell_type": "code",
      "execution_count": null,
      "id": "193e1d10",
      "metadata": {
        "id": "193e1d10"
      },
      "outputs": [],
      "source": [
        "lines = S.line()\n",
        "lines.plot(\"k:\");"
      ]
    },
    {
      "cell_type": "code",
      "execution_count": null,
      "id": "01cdc766",
      "metadata": {
        "id": "01cdc766"
      },
      "outputs": [],
      "source": [
        "link1 = PoERevolute([0, 0, 1], [0, 0, 0]);  # rotate about z-axis, through (0,0,0)\n",
        "link2 = PoERevolute([0, 0, 1], [1, 0, 0]);  # rotate about z-axis, through (1,0,0)\n",
        "TE0 = SE3.Tx(2);  # end-effector pose when q=[0,0]"
      ]
    },
    {
      "cell_type": "code",
      "execution_count": null,
      "id": "9c9e647b",
      "metadata": {
        "id": "9c9e647b"
      },
      "outputs": [],
      "source": [
        "robot = PoERobot([link1, link2], TE0)"
      ]
    },
    {
      "cell_type": "code",
      "execution_count": null,
      "id": "3fce4dbd",
      "metadata": {
        "id": "3fce4dbd"
      },
      "outputs": [],
      "source": [
        "robot.fkine([0, 0]).printline()"
      ]
    },
    {
      "cell_type": "markdown",
      "id": "ad570f11",
      "metadata": {
        "id": "ad570f11"
      },
      "source": [
        "## 7.5.5 Collision detection\n"
      ]
    },
    {
      "cell_type": "code",
      "execution_count": null,
      "id": "f834c8bb",
      "metadata": {
        "id": "f834c8bb"
      },
      "outputs": [],
      "source": [
        "panda = models.URDF.Panda();"
      ]
    },
    {
      "cell_type": "code",
      "execution_count": null,
      "id": "ee87845f",
      "metadata": {
        "id": "ee87845f"
      },
      "outputs": [],
      "source": [
        "from spatialgeometry import Cuboid\n",
        "box = Cuboid([1, 1, 1], pose=SE3.Tx(1.1));"
      ]
    },
    {
      "cell_type": "code",
      "execution_count": null,
      "id": "62ef2561",
      "metadata": {
        "id": "62ef2561"
      },
      "outputs": [],
      "source": [
        "panda.iscollided(panda.qr, box)"
      ]
    },
    {
      "cell_type": "code",
      "execution_count": null,
      "id": "58304e2b",
      "metadata": {
        "id": "58304e2b"
      },
      "outputs": [],
      "source": [
        "box.T = SE3.Tx(0.2)\n",
        "panda.iscollided(panda.qr, box)"
      ]
    },
    {
      "cell_type": "code",
      "execution_count": null,
      "id": "85130c71",
      "metadata": {
        "id": "85130c71"
      },
      "outputs": [],
      "source": [
        "# plot robot and get reference to graphics environment\n",
        "env = panda.plot(panda.qr, backend=\"swift\");\n",
        "env.add(box);  # add box to graphics\n",
        "env.step()     # update the graphics"
      ]
    },
    {
      "cell_type": "code",
      "execution_count": null,
      "id": "eec3368d",
      "metadata": {
        "id": "eec3368d"
      },
      "outputs": [],
      "source": [
        "env.step()"
      ]
    }
  ],
  "metadata": {
    "jupytext": {
      "cell_metadata_filter": "-all",
      "main_language": "python",
      "notebook_metadata_filter": "-all"
    },
    "kernelspec": {
      "display_name": "dev",
      "language": "python",
      "name": "python3"
    },
    "language_info": {
      "codemirror_mode": {
        "name": "ipython",
        "version": 3
      },
      "file_extension": ".py",
      "mimetype": "text/x-python",
      "name": "python",
      "nbconvert_exporter": "python",
      "pygments_lexer": "ipython3",
      "version": "3.10.9"
    },
    "vscode": {
      "interpreter": {
        "hash": "b7d6b0d76025b9176285a6442c3dd6dd39bcfe7241029b7898b7106bd5e9b472"
      }
    },
    "colab": {
      "provenance": []
    }
  },
  "nbformat": 4,
  "nbformat_minor": 5
}